{
 "cells": [
  {
   "cell_type": "markdown",
   "id": "0",
   "metadata": {},
   "source": [
    "\n",
    "# TRAP (Trivial Rush Attempt Percentage) with **nflreadpy** (Python)\n",
    "\n",
    "This notebook reproduces the **TRAP** model popularized by Ben Gretch and demonstrated on Open Source Football — but in Python — using the **nflreadpy** package from the nflverse.\n",
    "\n",
    "**Definition (working):** TRAP measures the share of a player's **total touches** that are **low-value rush attempts** — specifically, rush attempts **outside the opponent's 10-yard line**. Formally:\n",
    "\n",
    "\\[ \\text{TRAP} = \\frac{\\text{Rush Attempts outside Opp 10}}{\\text{Rush Attempts} + \\text{Receptions}} \\]\n",
    "\n",
    "> Intuition: touches that *aren't* inside-the-10 rushes or receptions tend to be less valuable for fantasy scoring. A high TRAP suggests a player may be soaking up empty-calorie carries.\n",
    "\n",
    "---\n",
    "\n",
    "### What you'll get here\n",
    "- A simple, configurable pipeline based on `nflreadpy` that loads play-by-play data for your chosen seasons.\n",
    "- Player-season and multi-season TRAP metrics.\n",
    "- Plots and tables to quickly spot **TRAP backs** (high TRAP) and **value backs** (low TRAP).\n",
    "- Clean CSV exports you can plug into league tools.\n"
   ]
  },
  {
   "cell_type": "markdown",
   "id": "1",
   "metadata": {},
   "source": [
    "\n",
    "## Setup\n",
    "\n",
    "Run the cell below to install dependencies if needed. Then restart the kernel if prompted.\n"
   ]
  },
  {
   "cell_type": "code",
   "execution_count": null,
   "id": "2",
   "metadata": {},
   "outputs": [],
   "source": [
    "# If running locally, uncomment to install. Internet is required in your environment to download packages.\n",
    "# %uv add --upgrade nflreadpy polars pandas matplotlib\n"
   ]
  },
  {
   "cell_type": "markdown",
   "id": "3",
   "metadata": {},
   "source": [
    "\n",
    "## Config\n",
    "\n",
    "Pick your seasons and any filtering thresholds.\n"
   ]
  },
  {
   "cell_type": "code",
   "execution_count": null,
   "id": "4",
   "metadata": {},
   "outputs": [],
   "source": [
    "from datetime import datetime\n",
    "\n",
    "# --------- User config ---------\n",
    "SEASONS = list(range(2019, datetime.now().year + 1))  # inclusive; adjust as you like\n",
    "MIN_TOUCHES = 50  # filter for display/plots; CSVs will include all players regardless\n",
    "\n",
    "# Plot options\n",
    "PLOT_CURRENT_SEASON_ONLY = False  # set True to plot just the last season in SEASONS\n",
    "# --------------------------------\n",
    "\n",
    "SEASONS"
   ]
  },
  {
   "cell_type": "markdown",
   "id": "5",
   "metadata": {},
   "source": [
    "\n",
    "## Imports\n"
   ]
  },
  {
   "cell_type": "code",
   "execution_count": null,
   "id": "6",
   "metadata": {},
   "outputs": [],
   "source": [
    "import warnings\n",
    "\n",
    "warnings.filterwarnings(\"ignore\")\n",
    "\n",
    "import matplotlib.pyplot as plt\n",
    "import polars as pl\n",
    "\n",
    "try:\n",
    "    import nflreadpy as nfl\n",
    "except Exception as e:\n",
    "    print(\"If import fails, run the install cell above. Error:\", e)"
   ]
  },
  {
   "cell_type": "markdown",
   "id": "7",
   "metadata": {},
   "source": [
    "\n",
    "## Load play-by-play data\n",
    "\n",
    "We pull play-by-play for the selected seasons using `nflreadpy.load_pbp()`.\n"
   ]
  },
  {
   "cell_type": "code",
   "execution_count": null,
   "id": "8",
   "metadata": {},
   "outputs": [],
   "source": [
    "# Load play-by-play for selected seasons\n",
    "pbp = None\n",
    "try:\n",
    "    pbp = nfl.load_pbp(seasons=SEASONS)\n",
    "except Exception as e:\n",
    "    print(\n",
    "        \"Data load failed. Make sure nflreadpy is installed and you have internet access. Error:\", e\n",
    "    )\n",
    "\n",
    "pbp.head().to_pandas().head() if pbp is not None else None"
   ]
  },
  {
   "cell_type": "markdown",
   "id": "9",
   "metadata": {},
   "source": [
    "\n",
    "## Derive touches and TRAP components\n",
    "\n",
    "- **Touches** = rush attempts + receptions  \n",
    "- **Trivial rush attempt**: rush attempt **outside** the opponent's 10 (i.e., `yardline_100 > 10` on rushing plays)\n"
   ]
  },
  {
   "cell_type": "code",
   "execution_count": null,
   "id": "10",
   "metadata": {},
   "outputs": [],
   "source": [
    "if pbp is None:\n",
    "    raise RuntimeError(\"PBP data not loaded. Aborting.\")\n",
    "\n",
    "# We'll identify rushing plays and receptions.\n",
    "# nflverse pbp has common fields:\n",
    "# - rusher_player_id / receiver_player_id\n",
    "# - rush_attempt (bool/int)\n",
    "# - pass_attempt (bool/int)\n",
    "# - complete_pass (bool/int)\n",
    "# - yardline_100 (yards from end zone; 1 means 1 yard away, 100 at own goal)\n",
    "# - posteam, season, week, etc.\n",
    "\n",
    "# Touch flags at the play level\n",
    "plays = pbp.with_columns(\n",
    "    [\n",
    "        # Rush attempt flag\n",
    "        (pl.col(\"rush_attempt\").fill_null(0) == 1).alias(\"is_rush\"),\n",
    "        # Reception flag = complete pass credited to a receiver (catch)\n",
    "        # Many pbp datasets also have \"reception\" flag; if absent, derive from receiver id & complete_pass\n",
    "        (\n",
    "            (pl.col(\"complete_pass\").fill_null(0) == 1) & pl.col(\"receiver_player_id\").is_not_null()\n",
    "        ).alias(\"is_rec\"),\n",
    "        # Rush outside opponent 10\n",
    "        # yardline_100 is distance to end zone for the offense; opp 10 means <=10 yards away.\n",
    "        ((pl.col(\"rush_attempt\").fill_null(0) == 1) & (pl.col(\"yardline_100\") > 10)).alias(\n",
    "            \"is_trivial_rush\"\n",
    "        ),\n",
    "    ]\n",
    ")\n",
    "\n",
    "# Extract player IDs for rushers and receivers\n",
    "plays = plays.with_columns(\n",
    "    [\n",
    "        pl.when(pl.col(\"is_rush\"))\n",
    "        .then(pl.col(\"rusher_player_id\"))\n",
    "        .otherwise(None)\n",
    "        .alias(\"rush_player_id\"),\n",
    "        pl.when(pl.col(\"is_rec\"))\n",
    "        .then(pl.col(\"receiver_player_id\"))\n",
    "        .otherwise(None)\n",
    "        .alias(\"rec_player_id\"),\n",
    "    ]\n",
    ")\n",
    "\n",
    "# We'll melt to a \"touch-level\" table keyed by player\n",
    "rush_df = (\n",
    "    plays.filter(pl.col(\"is_rush\"))\n",
    "    .select([\"season\", \"posteam\", \"rush_player_id\", \"is_trivial_rush\"])\n",
    "    .rename({\"rush_player_id\": \"player_id\"})\n",
    "    .with_columns(\n",
    "        [\n",
    "            pl.lit(1).alias(\"rush_att\"),\n",
    "            pl.lit(0).alias(\"rec\"),\n",
    "        ]\n",
    "    )\n",
    ")\n",
    "\n",
    "rec_df = (\n",
    "    plays.filter(pl.col(\"is_rec\"))\n",
    "    .select([\"season\", \"posteam\", \"rec_player_id\"])\n",
    "    .rename({\"rec_player_id\": \"player_id\"})\n",
    "    .with_columns(\n",
    "        [\n",
    "            pl.lit(0).alias(\"rush_att\"),\n",
    "            pl.lit(1).alias(\"rec\"),\n",
    "            pl.lit(0).alias(\"is_trivial_rush\"),\n",
    "        ]\n",
    "    )\n",
    ")\n",
    "\n",
    "# Ensure both have same columns\n",
    "rush_df = rush_df.with_columns([pl.col(\"is_trivial_rush\").cast(pl.Int64)])\n",
    "rec_df = rec_df.with_columns([pl.col(\"is_trivial_rush\").cast(pl.Int64)])\n",
    "\n",
    "touches = pl.concat([rush_df, rec_df], how=\"diagonal_relaxed\")\n",
    "\n",
    "# Aggregate to player-season\n",
    "player_season = (\n",
    "    touches.groupby([\"season\", \"player_id\", \"posteam\"])\n",
    "    .agg(\n",
    "        [\n",
    "            pl.sum(\"rush_att\").alias(\"rush_att\"),\n",
    "            pl.sum(\"rec\").alias(\"rec\"),\n",
    "            pl.sum(\"is_trivial_rush\").alias(\"trivial_rush_att\"),\n",
    "        ]\n",
    "    )\n",
    "    .with_columns(\n",
    "        [\n",
    "            (pl.col(\"rush_att\") + pl.col(\"rec\")).alias(\"touches\"),\n",
    "            (pl.col(\"trivial_rush_att\") / (pl.col(\"rush_att\") + pl.col(\"rec\")).clip(lower=1)).alias(\n",
    "                \"trap\"\n",
    "            ),  # avoid div by 0\n",
    "        ]\n",
    "    )\n",
    ")\n",
    "\n",
    "player_season.head().to_pandas().head()"
   ]
  },
  {
   "cell_type": "markdown",
   "id": "11",
   "metadata": {},
   "source": [
    "\n",
    "## Join player names & positions\n"
   ]
  },
  {
   "cell_type": "code",
   "execution_count": null,
   "id": "12",
   "metadata": {},
   "outputs": [],
   "source": [
    "players = None\n",
    "try:\n",
    "    players = nfl.load_players()\n",
    "except Exception as e:\n",
    "    print(\"Player table load failed. Error:\", e)\n",
    "\n",
    "if players is not None:\n",
    "    # nflverse players includes 'player_id' (gsis or gsis_it_id) variants; we try several common keys.\n",
    "    # nflfastR-style pbp usually uses 'player_id' as GSIS ID; nflreadpy should align.\n",
    "    # We'll try to match on 'gsis_id' if present, else 'nfl_id' or 'pfr_id'. Adjust as needed.\n",
    "    name_keys = [\n",
    "        c\n",
    "        for c in players.columns\n",
    "        if c in (\"gsis_id\", \"nfl_id\", \"pfr_id\", \"esb_id\", \"gsis_it_id\", \"player_id\")\n",
    "    ]\n",
    "    key = \"player_id\" if \"player_id\" in name_keys else (name_keys[0] if name_keys else None)\n",
    "\n",
    "    if key is None:\n",
    "        display(players.head().to_pandas().head())\n",
    "        raise RuntimeError(\n",
    "            \"Could not find a compatible player ID column to join on. Inspect players table above.\"\n",
    "        )\n",
    "\n",
    "    players_join = players.select(\n",
    "        [\n",
    "            pl.col(key).alias(\"player_id\"),\n",
    "            pl.col(\"full_name\").alias(\"player\"),\n",
    "            pl.col(\"position\").alias(\"pos\"),\n",
    "        ]\n",
    "    ).unique(subset=[\"player_id\"])\n",
    "\n",
    "    player_season_named = player_season.join(players_join, on=\"player_id\", how=\"left\")\n",
    "else:\n",
    "    player_season_named = player_season.with_columns(\n",
    "        [pl.lit(None).alias(\"player\"), pl.lit(None).alias(\"pos\")]\n",
    "    )\n",
    "\n",
    "player_season_named = player_season_named.select(\n",
    "    [\n",
    "        \"season\",\n",
    "        \"player_id\",\n",
    "        \"player\",\n",
    "        \"pos\",\n",
    "        \"posteam\",\n",
    "        \"rush_att\",\n",
    "        \"rec\",\n",
    "        \"touches\",\n",
    "        \"trivial_rush_att\",\n",
    "        \"trap\",\n",
    "    ]\n",
    ")\n",
    "\n",
    "player_season_named.sort([\"season\", \"trap\"], descending=[True, True]).head().to_pandas().head()"
   ]
  },
  {
   "cell_type": "markdown",
   "id": "13",
   "metadata": {},
   "source": [
    "\n",
    "## Multi-season aggregates\n",
    "\n",
    "Roll up to the player level across all selected seasons.\n"
   ]
  },
  {
   "cell_type": "code",
   "execution_count": null,
   "id": "14",
   "metadata": {},
   "outputs": [],
   "source": [
    "player_multi = (\n",
    "    player_season_named.groupby([\"player_id\", \"player\", \"pos\"])\n",
    "    .agg(\n",
    "        [\n",
    "            pl.len().alias(\"seasons\"),\n",
    "            pl.sum(\"rush_att\").alias(\"rush_att\"),\n",
    "            pl.sum(\"rec\").alias(\"rec\"),\n",
    "            pl.sum(\"touches\").alias(\"touches\"),\n",
    "            pl.sum(\"trivial_rush_att\").alias(\"trivial_rush_att\"),\n",
    "        ]\n",
    "    )\n",
    "    .with_columns([(pl.col(\"trivial_rush_att\") / pl.col(\"touches\").clip(lower=1)).alias(\"trap\")])\n",
    ")\n",
    "\n",
    "player_multi.sort(\"trap\", descending=True).head(10).to_pandas()"
   ]
  },
  {
   "cell_type": "markdown",
   "id": "15",
   "metadata": {},
   "source": [
    "\n",
    "## Views: leaders & laggards\n",
    "\n",
    "We show leaders/laggards by TRAP for players with at least `MIN_TOUCHES` over the selected seasons.\n"
   ]
  },
  {
   "cell_type": "code",
   "execution_count": null,
   "id": "16",
   "metadata": {},
   "outputs": [],
   "source": [
    "leaders = (\n",
    "    player_multi.filter(pl.col(\"touches\") >= MIN_TOUCHES)\n",
    "    .sort([\"trap\", \"touches\"], descending=[True, False])\n",
    "    .with_columns([(pl.col(\"trap\") * 100).round(1).alias(\"TRAP_%\")])\n",
    "    .select([\"player\", \"pos\", \"touches\", \"trivial_rush_att\", \"TRAP_%\"])\n",
    "    .to_pandas()\n",
    ")\n",
    "\n",
    "laggards = (\n",
    "    player_multi.filter(pl.col(\"touches\") >= MIN_TOUCHES)\n",
    "    .sort([\"trap\", \"touches\"], descending=[False, True])\n",
    "    .with_columns([(pl.col(\"trap\") * 100).round(1).alias(\"TRAP_%\")])\n",
    "    .select([\"player\", \"pos\", \"touches\", \"trivial_rush_att\", \"TRAP_%\"])\n",
    "    .to_pandas()\n",
    ")\n",
    "\n",
    "import caas_jupyter_tools\n",
    "\n",
    "caas_jupyter_tools.display_dataframe_to_user(\"High TRAP (leaders)\", leaders)\n",
    "caas_jupyter_tools.display_dataframe_to_user(\"Low TRAP (laggards)\", laggards)\n",
    "\n",
    "leaders.head(), laggards.head()"
   ]
  },
  {
   "cell_type": "markdown",
   "id": "17",
   "metadata": {},
   "source": [
    "\n",
    "## Plot: TRAP vs. Touches\n",
    "\n",
    "Each point is a player across all selected seasons (aggregated). High on the y-axis = more trivial carries.\n"
   ]
  },
  {
   "cell_type": "code",
   "execution_count": null,
   "id": "18",
   "metadata": {},
   "outputs": [],
   "source": [
    "pm = player_multi.to_pandas()\n",
    "\n",
    "# Filter for plot readability\n",
    "plot_df = pm[pm[\"touches\"] >= MIN_TOUCHES].copy()\n",
    "if PLOT_CURRENT_SEASON_ONLY and len(SEASONS) > 0:\n",
    "    latest = max(SEASONS)\n",
    "    # restrict to players active in latest season (approximate: appear in that season table)\n",
    "    act_latest = set(player_season_named.filter(pl.col(\"season\") == latest)[\"player_id\"].to_list())\n",
    "    plot_df = plot_df[plot_df[\"player_id\"].isin(act_latest)]\n",
    "\n",
    "plt.figure(figsize=(8, 6))\n",
    "plt.scatter(plot_df[\"touches\"], plot_df[\"trap\"] * 100, alpha=0.6)\n",
    "plt.xlabel(\"Touches (agg across selected seasons)\")\n",
    "plt.ylabel(\"TRAP % (Trivial Rush Attempt %)\")\n",
    "plt.title(\"TRAP vs. Touches\")\n",
    "plt.grid(True)\n",
    "plt.show()"
   ]
  },
  {
   "cell_type": "markdown",
   "id": "19",
   "metadata": {},
   "source": [
    "\n",
    "## Player-season table\n",
    "\n",
    "Handy if you want to look at TRAP on a per-season basis.\n"
   ]
  },
  {
   "cell_type": "code",
   "execution_count": null,
   "id": "20",
   "metadata": {},
   "outputs": [],
   "source": [
    "ps = player_season_named.with_columns([(pl.col(\"trap\") * 100).round(1).alias(\"TRAP_%\")])\n",
    "ps_out = ps.select(\n",
    "    [\n",
    "        \"season\",\n",
    "        \"player\",\n",
    "        \"pos\",\n",
    "        \"posteam\",\n",
    "        \"rush_att\",\n",
    "        \"rec\",\n",
    "        \"touches\",\n",
    "        \"trivial_rush_att\",\n",
    "        \"TRAP_%\",\n",
    "    ]\n",
    ").to_pandas()\n",
    "\n",
    "import caas_jupyter_tools\n",
    "\n",
    "caas_jupyter_tools.display_dataframe_to_user(\"Player-Season TRAP\", ps_out)\n",
    "\n",
    "ps_out.head()"
   ]
  },
  {
   "cell_type": "markdown",
   "id": "21",
   "metadata": {},
   "source": [
    "\n",
    "## Export\n",
    "\n",
    "Save CSVs for downstream use.\n"
   ]
  },
  {
   "cell_type": "code",
   "execution_count": null,
   "id": "22",
   "metadata": {},
   "outputs": [],
   "source": [
    "out_dir = Path(\"/mnt/data/trap_outputs\")\n",
    "out_dir.mkdir(parents=True, exist_ok=True)\n",
    "\n",
    "leaders.to_csv(out_dir / \"trap_leaders.csv\", index=False)\n",
    "laggards.to_csv(out_dir / \"trap_laggards.csv\", index=False)\n",
    "ps_out.to_csv(out_dir / \"trap_player_seasons.csv\", index=False)\n",
    "\n",
    "print(\"Saved:\")\n",
    "for p in sorted(out_dir.glob(\"*.csv\")):\n",
    "    print(\" -\", p)"
   ]
  },
  {
   "cell_type": "markdown",
   "id": "23",
   "metadata": {},
   "source": [
    "\n",
    "## Notes & caveats\n",
    "\n",
    "- This follows the **standard** TRAP definition: rushes **outside** the opponent's 10 are considered *trivial*; receptions and rushes **inside** the 10 are *non-trivial*.\n",
    "- Play-by-play schemas can evolve; if joins on player IDs fail, inspect `players` to pick the right key.\n",
    "- For finer control, adapt the filters (e.g., exclude kneel-downs, spikes, or certain game situations). Add filters on `qb_kneel`, `qb_spike`, or `play_type` if present.\n",
    "- Fantasy scoring systems vary; TRAP is **format-agnostic** but aligns most naturally with PPR/half-PPR logic.\n"
   ]
  }
 ],
 "metadata": {
  "kernelspec": {
   "display_name": "Python 3 (ipykernel)",
   "language": "python",
   "name": "python3"
  },
  "language_info": {
   "codemirror_mode": {
    "name": "ipython",
    "version": 3
   },
   "file_extension": ".py",
   "mimetype": "text/x-python",
   "name": "python",
   "nbconvert_exporter": "python",
   "pygments_lexer": "ipython3",
   "version": "3.13.6"
  }
 },
 "nbformat": 4,
 "nbformat_minor": 5
}
