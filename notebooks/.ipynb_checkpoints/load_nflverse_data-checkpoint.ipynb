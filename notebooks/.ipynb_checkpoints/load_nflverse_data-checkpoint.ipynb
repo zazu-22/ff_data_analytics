{
 "cells": [
  {
   "cell_type": "markdown",
   "id": "0",
   "metadata": {},
   "source": [
    "# Load nflverse data"
   ]
  },
  {
   "cell_type": "markdown",
   "id": "1",
   "metadata": {},
   "source": [
    "## Overview"
   ]
  },
  {
   "cell_type": "markdown",
   "id": "2",
   "metadata": {},
   "source": [
    "\n",
    "A Python package for downloading NFL data from nflverse repositories. This is a Python port of the popular R package nflreadr, designed to provide easy access to NFL data with caching, progress tracking, and modern Python conventions.\n",
    "\n",
    "**Features**:¶\n",
    "\n",
    "* Compatible API with nflreadr R package\n",
    "* Fast data loading with Polars DataFrames\n",
    "* Intelligent caching (memory or filesystem)\n",
    "* Progress tracking for large downloads\n",
    "\n",
    "**Links**:\n",
    "\n",
    "* Main page: https://nflreadpy.nflverse.com/\n",
    "* Load functions: https://nflreadpy.nflverse.com/api/load_functions/\n",
    "* Configuration: https://nflreadpy.nflverse.com/api/configuration/\n",
    "* Utilities: https://nflreadpy.nflverse.com/api/utils/"
   ]
  },
  {
   "cell_type": "markdown",
   "id": "3",
   "metadata": {},
   "source": [
    "Examples of using the nflreadpy library:\n",
    "\n",
    "```python\n",
    "import nflreadpy as nfl\n",
    "\n",
    "# Load current season play-by-play data\n",
    "pbp = nfl.load_pbp()\n",
    "\n",
    "# Load player game-level stats for multiple seasons\n",
    "player_stats = nfl.load_player_stats([2022, 2023])\n",
    "\n",
    "# Load all available team level stats\n",
    "team_stats = nfl.load_team_stats(seasons=True)\n",
    "\n",
    "# nflreadpy uses Polars instead of pandas. Convert to pandas if needed:\n",
    "pbp_pandas = pbp.to_pandas()\n",
    "```"
   ]
  },
  {
   "cell_type": "markdown",
   "id": "4",
   "metadata": {},
   "source": [
    "## Config"
   ]
  },
  {
   "cell_type": "code",
   "execution_count": null,
   "id": "5",
   "metadata": {},
   "outputs": [],
   "source": [
    "import nflreadpy as nfl"
   ]
  },
  {
   "cell_type": "code",
   "execution_count": null,
   "id": "6",
   "metadata": {},
   "outputs": [],
   "source": [
    "\"\"\" Utility Functions\n",
    "get_current_season(roster: bool = False) -> int\n",
    "get_current_week() -> int\n",
    "\"\"\"\n",
    "\n",
    "# Set current season\n",
    "cur_season = nfl.get_current_season()\n",
    "print(f\"Current season: {cur_season}\")\n",
    "\n",
    "# Set current week\n",
    "cur_week = nfl.get_current_week()\n",
    "print(f\"Current week: {cur_week}\")"
   ]
  },
  {
   "cell_type": "markdown",
   "id": "7",
   "metadata": {},
   "source": [
    "## Helper Functions"
   ]
  },
  {
   "cell_type": "code",
   "execution_count": null,
   "id": "8",
   "metadata": {},
   "outputs": [],
   "source": [
    "\"\"\" Note: These functions have not been tested with\n",
    "functions other than load player stats\n",
    "\"\"\"\n",
    "\n",
    "\n",
    "# Renames player_id column to gsis_id to match actual name of the id\n",
    "def rename_col_player_id_to_gsis_id(df):\n",
    "    return df.rename({\"player_id\": \"gsis_id\"})\n",
    "\n",
    "\n",
    "# Uses summary level to help with file name\n",
    "def set_file_suffix(summary_level):\n",
    "    if summary_level == \"week\":\n",
    "        file_suffix = \"wkly\"\n",
    "    elif summary_level == \"reg+post\":\n",
    "        file_suffix = \"full\"\n",
    "    else:\n",
    "        file_suffix = summary_level\n",
    "    return file_suffix\n",
    "\n",
    "\n",
    "# Saves df to csv\n",
    "def save_csv(df, stat_type, season, grouping):\n",
    "    file_suffix = set_file_suffix(grouping)\n",
    "    file_name = f\"{stat_type}_{season}_{file_suffix}.csv\"\n",
    "    df.write_csv(file_name, separator=\",\", include_header=True)\n",
    "    print(f\"Wrote DataFrame to '{file_name}'.\")"
   ]
  },
  {
   "cell_type": "markdown",
   "id": "9",
   "metadata": {},
   "source": [
    "## Player NFL Statistics"
   ]
  },
  {
   "cell_type": "markdown",
   "id": "10",
   "metadata": {},
   "source": [
    "### Load Player Statistics\n",
    "\n",
    "```python\n",
    "load_player_stats(\n",
    "    seasons: int | list[int] | bool | None = None,\n",
    "    summary_level: Literal[\n",
    "        \"week\", \"reg\", \"post\", \"reg+post\"\n",
    "    ] = \"week\",\n",
    ") -> pl.DataFrame\n",
    "```"
   ]
  },
  {
   "cell_type": "markdown",
   "id": "11",
   "metadata": {},
   "source": [
    "#### Load Player Stats for Past Seasons"
   ]
  },
  {
   "cell_type": "code",
   "execution_count": null,
   "id": "12",
   "metadata": {},
   "outputs": [],
   "source": [
    "\"\"\" TODO: Improve CSV output to allow for specifying output directory and to\n",
    "organize by season\n",
    "\"\"\"\n",
    "\n",
    "\n",
    "# Save historical player statistics by season from list of seasons\n",
    "def save_player_stats_hist(season_list, summary_level):\n",
    "    for year in season_list:\n",
    "        season = year\n",
    "        # Get player stats for past season by week\n",
    "        plr_stats = nfl.load_player_stats(season, summary_level)\n",
    "        # Rename 'player_id' column to 'nfl_id' to match core.player_id table schema\n",
    "        plr_stats = rename_col_player_id(plr_stats)\n",
    "        # Save to csv file\n",
    "        save_csv(plr_stats, \"plr_stats\", season, summary_level)\n",
    "    return\n",
    "\n",
    "\n",
    "if __name__ == \"__main__\":\n",
    "    # Define list of seasons\n",
    "    hist_seasons_plr_stats = [2022, 2021, 2020, 2019, 2018, 2017, 2016, 2015]\n",
    "    # Save by week\n",
    "    save_player_stats_hist(hist_seasons_plr_stats, \"week\")\n",
    "\n",
    "    # Save by regular season\n",
    "    save_player_stats_hist(hist_seasons_plr_stats, \"reg\")\n",
    "\n",
    "    # Save by post season\n",
    "    save_player_stats_hist(hist_seasons_plr_stats, \"post\")\n",
    "\n",
    "    # Save by full season\n",
    "    save_player_stats_hist(hist_seasons_plr_stats, \"reg+post\")"
   ]
  },
  {
   "cell_type": "markdown",
   "id": "13",
   "metadata": {
    "jp-MarkdownHeadingCollapsed": true
   },
   "source": [
    "#### Load Player Stats for Current Season"
   ]
  },
  {
   "cell_type": "code",
   "execution_count": null,
   "id": "14",
   "metadata": {},
   "outputs": [],
   "source": [
    "\"\"\" TODO: Enhance this with function using approach \n",
    "in load historical player stats above\n",
    "\"\"\"\n",
    "\n",
    "# Get current season player stats by week\n",
    "plr_stats_cur_season_wkly = nfl.load_player_stats(cur_season, \"week\")\n",
    "# Save current season player stats by week to csv\n",
    "save_csv(plr_stats_cur_season_wkly, f\"plr_stats_wkly_{cur_season}-{cur_week}.csv\")\n",
    "\n",
    "# Get current season player stats by regular season\n",
    "plr_stats_cur_season_reg = nfl.load_player_stats(cur_season, \"reg\")\n",
    "# Save current season player stats by regular season to csv\n",
    "save_csv(plr_stats_cur_season_reg, f\"plr_stats_reg_{cur_season}-{cur_week}.csv\")"
   ]
  },
  {
   "cell_type": "markdown",
   "id": "15",
   "metadata": {},
   "source": [
    "### Load NextGen Stats\n",
    "\n",
    "```python\n",
    "load_nextgen_stats(\n",
    "    seasons: int | list[int] | bool | None = None,\n",
    "    stat_type: Literal[\n",
    "        \"passing\", \"receiving\", \"rushing\"\n",
    "    ] = \"passing\",\n",
    ") -> pl.DataFrame\n",
    "```"
   ]
  },
  {
   "cell_type": "markdown",
   "id": "16",
   "metadata": {},
   "source": [
    "### Load Participation Data\n",
    "\n",
    "```python\n",
    "load_participation(\n",
    "    seasons: int | list[int] | bool | None = None,\n",
    ") -> pl.DataFrame\n",
    "```\n",
    "\n",
    "**Note:** Data available since 2016."
   ]
  },
  {
   "cell_type": "markdown",
   "id": "17",
   "metadata": {},
   "source": [
    "### Load Injury Data\n",
    "\n",
    "```python\n",
    "load_injuries(\n",
    "    seasons: int | list[int] | bool | None = None,\n",
    ") -> pl.DataFrame\n",
    "```"
   ]
  },
  {
   "cell_type": "markdown",
   "id": "18",
   "metadata": {},
   "source": [
    "### Load Snap Counts\n",
    "\n",
    "```python\n",
    "load_snap_counts(\n",
    "    seasons: int | list[int] | bool | None = None,\n",
    ") -> pl.DataFrame\n",
    "```"
   ]
  },
  {
   "cell_type": "markdown",
   "id": "19",
   "metadata": {},
   "source": [
    "## Play-By-Play NFL Statistics"
   ]
  },
  {
   "cell_type": "markdown",
   "id": "20",
   "metadata": {},
   "source": [
    "### Load NFL play-by-play data\n",
    "\n",
    "```python\n",
    "load_pbp(\n",
    "    seasons: int | list[int] | bool | None = None,\n",
    ") -> pl.DataFrame\n",
    "```"
   ]
  },
  {
   "cell_type": "markdown",
   "id": "21",
   "metadata": {},
   "source": [
    "### Load FTN Manual Play Charting Data\n",
    "\n",
    "```python\n",
    "load_ftn_charting(\n",
    "    seasons: int | list[int] | bool | None = None,\n",
    ") -> pl.DataFrame\n",
    "```\n",
    "\n",
    "**Note**: Data available since 2022"
   ]
  },
  {
   "cell_type": "markdown",
   "id": "22",
   "metadata": {},
   "source": [
    "## Team NFL Stats"
   ]
  },
  {
   "cell_type": "markdown",
   "id": "23",
   "metadata": {},
   "source": [
    "## Fantasy-Related Information"
   ]
  },
  {
   "cell_type": "markdown",
   "id": "24",
   "metadata": {
    "jp-MarkdownHeadingCollapsed": true
   },
   "source": [
    "### Load Fantasy Football Player IDs\n",
    "\n",
    "```python\n",
    "load_ff_playerids() -> pl.DataFrame\n",
    "```"
   ]
  },
  {
   "cell_type": "code",
   "execution_count": null,
   "id": "25",
   "metadata": {},
   "outputs": [],
   "source": [
    "# Loads fantasy football player IDs from DynastyProcess.com database\n",
    "ff_playerids = nfl.load_ff_playerids()\n",
    "ff_playerids.sample(15)"
   ]
  },
  {
   "cell_type": "markdown",
   "id": "26",
   "metadata": {},
   "source": [
    "### Load fantasy football rankings and projections\n",
    "\n",
    "```python\n",
    "load_ff_rankings(\n",
    "    type: Literal[\"draft\", \"week\", \"all\"] = \"draft\",\n",
    ") -> pl.DataFrame\n",
    "```\n",
    "\n",
    "**Paremters**:\n",
    "\n",
    "| Name | Type | Description | Default |\n",
    "|:--|:--|:--|:--|\n",
    "| type | Literal['draft', 'week', 'all'] | Type of rankings to load: - \"draft\": Draft rankings/projections - \"week\": Weekly rankings/projections - \"all\": All historical rankings/projections | 'draft' |\n",
    "\n",
    "**Returns**:\n",
    "\n",
    "| Type | Description |\n",
    "|:--|:--|\n",
    "| DataFrame | Polars DataFrame with fantasy football rankings data. |\n",
    "\n",
    "**See also**: https://nflreadr.nflverse.com/reference/load_ff_rankings.html\n"
   ]
  },
  {
   "cell_type": "code",
   "execution_count": null,
   "id": "27",
   "metadata": {},
   "outputs": [],
   "source": [
    "# Load the latest fantasy football rankings and projections\n",
    "ff_rankings = nfl.load_ff_rankings(\"week\")\n",
    "ff_rankings.sample(10)"
   ]
  },
  {
   "cell_type": "code",
   "execution_count": null,
   "id": "28",
   "metadata": {},
   "outputs": [],
   "source": [
    "# Load the preseason fantasy football rankings and projections\n",
    "ff_rankings = nfl.load_ff_rankings(\"draft\")\n",
    "ff_rankings.sample(10)"
   ]
  },
  {
   "cell_type": "code",
   "execution_count": null,
   "id": "29",
   "metadata": {},
   "outputs": [],
   "source": [
    "# Load the full historical archive of fantasy football rankings and projections\n",
    "ff_rankings = nfl.load_ff_rankings(\"all\")\n",
    "ff_rankings.sample(10)"
   ]
  },
  {
   "cell_type": "markdown",
   "id": "30",
   "metadata": {},
   "source": [
    "### Load FF Opportunities\n",
    "\n",
    "```python\n",
    "load_ff_opportunity(\n",
    "    seasons: int | list[int] | None = None,\n",
    "    stat_type: Literal[\n",
    "        \"weekly\", \"pbp_pass\", \"pbp_rush\"\n",
    "    ] = \"weekly\",\n",
    "    model_version: Literal[\"latest\", \"v1.0.0\"] = \"latest\",\n",
    ") -> pl.DataFrame\n",
    "```\n",
    "\n",
    "This function loads opportunity and target share data for fantasy football analysis from the ffverse/ffopportunity repository."
   ]
  },
  {
   "cell_type": "code",
   "execution_count": null,
   "id": "31",
   "metadata": {},
   "outputs": [],
   "source": [
    "# Load weekly fantasy football opportunity data for current season\n",
    "ff_opportunity_current_wkly = nfl.load_ff_opportunity()"
   ]
  },
  {
   "cell_type": "code",
   "execution_count": null,
   "id": "32",
   "metadata": {},
   "outputs": [],
   "source": [
    "# Load historical fantasy football opportunity data\n",
    "\n",
    "opportunity_data_seasons = [2024, 2023, 2022, 2021, 2020]\n",
    "\n",
    "ff_opportunity_2020_to_2024 = nfl.load_ff_opportunity(opportunity_data_seasons)"
   ]
  },
  {
   "cell_type": "markdown",
   "id": "33",
   "metadata": {},
   "source": [
    "## Other Information"
   ]
  },
  {
   "cell_type": "markdown",
   "id": "34",
   "metadata": {},
   "source": [
    "### Load Player Information\n",
    "\n",
    "```python\n",
    "load_players() -> pl.DataFrame\n",
    "```\n",
    "\n",
    "This is a comprehensive source of player information including basic details, draft information, positions, and ID mappings across multiple data sources (GSIS, PFR, PFF, OTC, ESB, ESPN)."
   ]
  },
  {
   "cell_type": "code",
   "execution_count": null,
   "id": "35",
   "metadata": {},
   "outputs": [],
   "source": [
    "# Load player information\n",
    "\n",
    "player_data = nfl.load_players()\n",
    "player_data.describe()\n",
    "player_data.sample(15)"
   ]
  },
  {
   "cell_type": "markdown",
   "id": "36",
   "metadata": {},
   "source": [
    "### Load Rosters"
   ]
  },
  {
   "cell_type": "code",
   "execution_count": null,
   "id": "37",
   "metadata": {},
   "outputs": [],
   "source": []
  },
  {
   "cell_type": "markdown",
   "id": "38",
   "metadata": {},
   "source": [
    "### Load NFL Combine Data\n",
    "\n",
    "```python\n",
    "load_combine(\n",
    "    seasons: int | list[int] | bool | None = True,\n",
    ") -> pl.DataFrame\n",
    "```"
   ]
  },
  {
   "cell_type": "markdown",
   "id": "39",
   "metadata": {},
   "source": [
    "### Load NFL Depth Charts\n",
    "\n",
    "```python\n",
    "load_depth_charts(\n",
    "    seasons: int | list[int] | bool | None = None,\n",
    ") -> pl.DataFrame\n",
    "```"
   ]
  }
 ],
 "metadata": {
  "kernelspec": {
   "display_name": "Python 3 (ipykernel)",
   "language": "python",
   "name": "python3"
  },
  "language_info": {
   "codemirror_mode": {
    "name": "ipython",
    "version": 3
   },
   "file_extension": ".py",
   "mimetype": "text/x-python",
   "name": "python",
   "nbconvert_exporter": "python",
   "pygments_lexer": "ipython3",
   "version": "3.13.6"
  }
 },
 "nbformat": 4,
 "nbformat_minor": 5
}
