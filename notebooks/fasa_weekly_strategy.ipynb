{
 "cells": [
  {
   "cell_type": "markdown",
   "metadata": {},
   "source": [
    "# FASA Week 9 Strategy - Due Wednesday 11:59 PM EST\n",
    "\n",
    "Analysis notebook for FASA bid planning using `mart_fasa_targets` and `mart_my_roster_droppable`."
   ]
  },
  {
   "cell_type": "code",
   "execution_count": 1,
   "metadata": {
    "execution": {
     "iopub.execute_input": "2025-10-27T22:49:14.621972Z",
     "iopub.status.busy": "2025-10-27T22:49:14.621891Z",
     "iopub.status.idle": "2025-10-27T22:49:15.285245Z",
     "shell.execute_reply": "2025-10-27T22:49:15.285026Z"
    }
   },
   "outputs": [],
   "source": [
    "# Imports\n",
    "from pathlib import Path\n",
    "\n",
    "import duckdb\n",
    "import matplotlib.pyplot as plt\n",
    "import pandas as pd\n",
    "import seaborn as sns\n",
    "\n",
    "# Set plotting style\n",
    "sns.set_theme(style=\"whitegrid\")\n",
    "plt.rcParams['figure.figsize'] = (12, 6)"
   ]
  },
  {
   "cell_type": "code",
   "execution_count": 2,
   "metadata": {
    "execution": {
     "iopub.execute_input": "2025-10-27T22:49:15.286681Z",
     "iopub.status.busy": "2025-10-27T22:49:15.286559Z",
     "iopub.status.idle": "2025-10-27T22:49:15.323380Z",
     "shell.execute_reply": "2025-10-27T22:49:15.323124Z"
    }
   },
   "outputs": [
    {
     "name": "stdout",
     "output_type": "stream",
     "text": [
      "Connecting to DuckDB: /Users/jason/code/ff_analytics/dbt/ff_analytics/target/dev.duckdb\n",
      "Loaded 0 years of cap data\n",
      "\n",
      "Loaded 0 FASA targets\n",
      "Loaded 3 roster players\n",
      "Cap situation: 0 years\n"
     ]
    }
   ],
   "source": [
    "# Connect to DuckDB database and load marts\n",
    "\n",
    "# Determine repo root (parent of notebooks dir)\n",
    "repo_root = Path.cwd().parent if Path.cwd().name == 'notebooks' else Path.cwd()\n",
    "duckdb_path = repo_root / 'dbt' / 'ff_analytics' / 'target' / 'dev.duckdb'\n",
    "print(f\"Connecting to DuckDB: {duckdb_path}\")\n",
    "\n",
    "conn = duckdb.connect(str(duckdb_path), read_only=True)\n",
    "\n",
    "# Load FASA targets from dbt mart\n",
    "fasa_targets = conn.execute(\"\"\"\n",
    "    SELECT *\n",
    "    FROM main.mart_fasa_targets\n",
    "    ORDER BY priority_rank_overall\n",
    "\"\"\").df()\n",
    "\n",
    "# Load my roster droppable analysis\n",
    "my_roster_droppable = conn.execute(\"\"\"\n",
    "    SELECT *\n",
    "    FROM main.mart_my_roster_droppable\n",
    "    ORDER BY droppable_score DESC\n",
    "\"\"\").df()\n",
    "\n",
    "# Load cap situation (if available)\n",
    "try:\n",
    "    cap_situation = conn.execute(\"\"\"\n",
    "        SELECT *\n",
    "        FROM main.mart_cap_situation\n",
    "        WHERE franchise_name = 'Jason'\n",
    "    \"\"\").df()\n",
    "    print(f\"Loaded {len(cap_situation)} years of cap data\")\n",
    "except Exception as e:\n",
    "    print(f\"Cap situation mart not available: {e}\")\n",
    "    # Use hardcoded values from Task 1.1 sprint plan\n",
    "    cap_situation = pd.DataFrame([\n",
    "        {'season': 2025, 'cap_space_available': 80},\n",
    "        {'season': 2026, 'cap_space_available': 80},\n",
    "        {'season': 2027, 'cap_space_available': 158},\n",
    "        {'season': 2028, 'cap_space_available': 183},\n",
    "        {'season': 2029, 'cap_space_available': 250}\n",
    "    ])\n",
    "    print(\"Using hardcoded cap values from Task 1.1\")\n",
    "\n",
    "print(f\"\\nLoaded {len(fasa_targets)} FASA targets\")\n",
    "print(f\"Loaded {len(my_roster_droppable)} roster players\")\n",
    "print(f\"Cap situation: {len(cap_situation)} years\")"
   ]
  },
  {
   "cell_type": "markdown",
   "metadata": {},
   "source": [
    "## 1. My Cap Situation"
   ]
  },
  {
   "cell_type": "code",
   "execution_count": 3,
   "metadata": {
    "execution": {
     "iopub.execute_input": "2025-10-27T22:49:15.338852Z",
     "iopub.status.busy": "2025-10-27T22:49:15.338750Z",
     "iopub.status.idle": "2025-10-27T22:49:15.343506Z",
     "shell.execute_reply": "2025-10-27T22:49:15.343280Z"
    }
   },
   "outputs": [
    {
     "name": "stdout",
     "output_type": "stream",
     "text": [
      "Current Cap Space:\n",
      "Empty DataFrame\n",
      "Columns: [season, cap_space_available]\n",
      "Index: []\n",
      "\n",
      "Warning: No 2025 cap data found, using hardcoded value\n",
      "\n",
      "2025 Available Cap: $80\n"
     ]
    }
   ],
   "source": [
    "# Display cap situation\n",
    "print(\"Current Cap Space:\")\n",
    "cap_col = 'cap_space_available' if 'cap_space_available' in cap_situation.columns else 'cap_space'\n",
    "print(cap_situation[['season', cap_col]].to_string(index=False))\n",
    "\n",
    "# Get current year cap\n",
    "cap_2025 = cap_situation[cap_situation['season'] == 2025]\n",
    "if len(cap_2025) > 0:\n",
    "    current_cap = cap_2025[cap_col].iloc[0]\n",
    "else:\n",
    "    current_cap = 80  # Fallback\n",
    "    print(\"\\nWarning: No 2025 cap data found, using hardcoded value\")\n",
    "\n",
    "print(f\"\\n2025 Available Cap: ${current_cap}\")"
   ]
  },
  {
   "cell_type": "code",
   "execution_count": 4,
   "metadata": {
    "execution": {
     "iopub.execute_input": "2025-10-27T22:49:15.344532Z",
     "iopub.status.busy": "2025-10-27T22:49:15.344474Z",
     "iopub.status.idle": "2025-10-27T22:49:15.347496Z",
     "shell.execute_reply": "2025-10-27T22:49:15.347313Z"
    }
   },
   "outputs": [
    {
     "name": "stdout",
     "output_type": "stream",
     "text": [
      "Example: Drop Justin Armour\n",
      "{'player': 'Justin Armour', 'current_cap': 80, 'cap_freed': np.float64(0.25), 'dead_cap': np.float64(0.75), 'new_cap_space': np.float64(80.25)}\n"
     ]
    }
   ],
   "source": [
    "# Cap Space Calculator\n",
    "def calculate_cap_if_drop(player_name):\n",
    "    \"\"\"Calculate cap space if a player is dropped.\"\"\"\n",
    "    player = my_roster_droppable[my_roster_droppable['player_name'] == player_name]\n",
    "    \n",
    "    if len(player) == 0:\n",
    "        return {'error': f'Player {player_name} not found'}\n",
    "    \n",
    "    player = player.iloc[0]\n",
    "    cap_freed = player['cap_space_freed']\n",
    "    new_cap_space = current_cap + cap_freed\n",
    "    \n",
    "    return {\n",
    "        'player': player_name,\n",
    "        'current_cap': current_cap,\n",
    "        'cap_freed': cap_freed,\n",
    "        'dead_cap': player['dead_cap_if_cut_now'],\n",
    "        'new_cap_space': new_cap_space\n",
    "    }\n",
    "\n",
    "# Example usage\n",
    "if len(my_roster_droppable) > 0:\n",
    "    example_player = my_roster_droppable.iloc[0]['player_name']\n",
    "    print(f\"Example: Drop {example_player}\")\n",
    "    print(calculate_cap_if_drop(example_player))"
   ]
  },
  {
   "cell_type": "markdown",
   "metadata": {},
   "source": [
    "## 2. Top FASA Targets by Position"
   ]
  },
  {
   "cell_type": "markdown",
   "metadata": {},
   "source": [
    "### 2.1 RB Targets (Priority #1)"
   ]
  },
  {
   "cell_type": "code",
   "execution_count": 5,
   "metadata": {
    "execution": {
     "iopub.execute_input": "2025-10-27T22:49:15.348510Z",
     "iopub.status.busy": "2025-10-27T22:49:15.348448Z",
     "iopub.status.idle": "2025-10-27T22:49:15.353563Z",
     "shell.execute_reply": "2025-10-27T22:49:15.353359Z"
    }
   },
   "outputs": [
    {
     "name": "stdout",
     "output_type": "stream",
     "text": [
      "Top 10 RB Targets:\n"
     ]
    },
    {
     "data": {
      "text/html": [
       "<div>\n",
       "<style scoped>\n",
       "    .dataframe tbody tr th:only-of-type {\n",
       "        vertical-align: middle;\n",
       "    }\n",
       "\n",
       "    .dataframe tbody tr th {\n",
       "        vertical-align: top;\n",
       "    }\n",
       "\n",
       "    .dataframe thead th {\n",
       "        text-align: right;\n",
       "    }\n",
       "</style>\n",
       "<table border=\"1\" class=\"dataframe\">\n",
       "  <thead>\n",
       "    <tr style=\"text-align: right;\">\n",
       "      <th></th>\n",
       "      <th>priority_rank_at_position</th>\n",
       "      <th>player_name</th>\n",
       "      <th>nfl_team</th>\n",
       "      <th>fantasy_ppg_last_4</th>\n",
       "      <th>projected_ppg_ros</th>\n",
       "      <th>snap_share_l4</th>\n",
       "      <th>value_score</th>\n",
       "      <th>suggested_bid_1yr</th>\n",
       "      <th>suggested_bid_2yr</th>\n",
       "      <th>bid_confidence</th>\n",
       "    </tr>\n",
       "  </thead>\n",
       "  <tbody>\n",
       "  </tbody>\n",
       "</table>\n",
       "</div>"
      ],
      "text/plain": [
       "Empty DataFrame\n",
       "Columns: [priority_rank_at_position, player_name, nfl_team, fantasy_ppg_last_4, projected_ppg_ros, snap_share_l4, value_score, suggested_bid_1yr, suggested_bid_2yr, bid_confidence]\n",
       "Index: []"
      ]
     },
     "metadata": {},
     "output_type": "display_data"
    }
   ],
   "source": [
    "# Top 10 RBs Available\n",
    "rb_targets = fasa_targets[fasa_targets['position'] == 'RB'].head(10)\n",
    "\n",
    "display_cols = [\n",
    "    'priority_rank_at_position',\n",
    "    'player_name',\n",
    "    'nfl_team',\n",
    "    'fantasy_ppg_last_4',\n",
    "    'projected_ppg_ros',\n",
    "    'snap_share_l4',\n",
    "    'value_score',\n",
    "    'suggested_bid_1yr',\n",
    "    'suggested_bid_2yr',\n",
    "    'bid_confidence'\n",
    "]\n",
    "\n",
    "print(\"Top 10 RB Targets:\")\n",
    "display(rb_targets[display_cols])"
   ]
  },
  {
   "cell_type": "code",
   "execution_count": 6,
   "metadata": {
    "execution": {
     "iopub.execute_input": "2025-10-27T22:49:15.354682Z",
     "iopub.status.busy": "2025-10-27T22:49:15.354621Z",
     "iopub.status.idle": "2025-10-27T22:49:15.356524Z",
     "shell.execute_reply": "2025-10-27T22:49:15.356354Z"
    }
   },
   "outputs": [],
   "source": [
    "# RB Value Matrix Visualization\n",
    "if len(rb_targets) > 0:\n",
    "    plt.figure(figsize=(12, 8))\n",
    "    plt.scatter(rb_targets['suggested_bid_1yr'], rb_targets['projected_ppg_ros'], \n",
    "                s=100, alpha=0.6, c=rb_targets['value_score'], cmap='RdYlGn')\n",
    "    plt.colorbar(label='Value Score')\n",
    "    plt.xlabel('Suggested Bid ($)', fontsize=12)\n",
    "    plt.ylabel('Projected PPG ROS', fontsize=12)\n",
    "    plt.title('RB Value Matrix: Projected Performance vs Bid Cost', fontsize=14, fontweight='bold')\n",
    "    plt.grid(True, alpha=0.3)\n",
    "    \n",
    "    # Annotate players\n",
    "    for _, row in rb_targets.iterrows():\n",
    "        plt.annotate(row['player_name'], \n",
    "                    (row['suggested_bid_1yr'], row['projected_ppg_ros']),\n",
    "                    fontsize=9, alpha=0.8, \n",
    "                    xytext=(5, 5), textcoords='offset points')\n",
    "    plt.tight_layout()\n",
    "    plt.show()"
   ]
  },
  {
   "cell_type": "markdown",
   "metadata": {},
   "source": [
    "### 2.2 WR Targets (Priority #2)"
   ]
  },
  {
   "cell_type": "code",
   "execution_count": 7,
   "metadata": {
    "execution": {
     "iopub.execute_input": "2025-10-27T22:49:15.357452Z",
     "iopub.status.busy": "2025-10-27T22:49:15.357397Z",
     "iopub.status.idle": "2025-10-27T22:49:15.360262Z",
     "shell.execute_reply": "2025-10-27T22:49:15.360099Z"
    }
   },
   "outputs": [
    {
     "name": "stdout",
     "output_type": "stream",
     "text": [
      "Top 15 WR Targets:\n"
     ]
    },
    {
     "data": {
      "text/html": [
       "<div>\n",
       "<style scoped>\n",
       "    .dataframe tbody tr th:only-of-type {\n",
       "        vertical-align: middle;\n",
       "    }\n",
       "\n",
       "    .dataframe tbody tr th {\n",
       "        vertical-align: top;\n",
       "    }\n",
       "\n",
       "    .dataframe thead th {\n",
       "        text-align: right;\n",
       "    }\n",
       "</style>\n",
       "<table border=\"1\" class=\"dataframe\">\n",
       "  <thead>\n",
       "    <tr style=\"text-align: right;\">\n",
       "      <th></th>\n",
       "      <th>priority_rank_at_position</th>\n",
       "      <th>player_name</th>\n",
       "      <th>nfl_team</th>\n",
       "      <th>fantasy_ppg_last_4</th>\n",
       "      <th>projected_ppg_ros</th>\n",
       "      <th>snap_share_l4</th>\n",
       "      <th>value_score</th>\n",
       "      <th>suggested_bid_1yr</th>\n",
       "      <th>suggested_bid_2yr</th>\n",
       "      <th>bid_confidence</th>\n",
       "    </tr>\n",
       "  </thead>\n",
       "  <tbody>\n",
       "  </tbody>\n",
       "</table>\n",
       "</div>"
      ],
      "text/plain": [
       "Empty DataFrame\n",
       "Columns: [priority_rank_at_position, player_name, nfl_team, fantasy_ppg_last_4, projected_ppg_ros, snap_share_l4, value_score, suggested_bid_1yr, suggested_bid_2yr, bid_confidence]\n",
       "Index: []"
      ]
     },
     "metadata": {},
     "output_type": "display_data"
    }
   ],
   "source": [
    "# Top 15 WRs Available\n",
    "wr_targets = fasa_targets[fasa_targets['position'] == 'WR'].head(15)\n",
    "\n",
    "print(\"Top 15 WR Targets:\")\n",
    "display(wr_targets[display_cols])"
   ]
  },
  {
   "cell_type": "code",
   "execution_count": 8,
   "metadata": {
    "execution": {
     "iopub.execute_input": "2025-10-27T22:49:15.361182Z",
     "iopub.status.busy": "2025-10-27T22:49:15.361121Z",
     "iopub.status.idle": "2025-10-27T22:49:15.362969Z",
     "shell.execute_reply": "2025-10-27T22:49:15.362807Z"
    }
   },
   "outputs": [],
   "source": [
    "# WR Value Matrix Visualization\n",
    "if len(wr_targets) > 0:\n",
    "    plt.figure(figsize=(12, 8))\n",
    "    plt.scatter(wr_targets['suggested_bid_1yr'], wr_targets['projected_ppg_ros'], \n",
    "                s=100, alpha=0.6, c=wr_targets['value_score'], cmap='RdYlGn')\n",
    "    plt.colorbar(label='Value Score')\n",
    "    plt.xlabel('Suggested Bid ($)', fontsize=12)\n",
    "    plt.ylabel('Projected PPG ROS', fontsize=12)\n",
    "    plt.title('WR Value Matrix: Projected Performance vs Bid Cost', fontsize=14, fontweight='bold')\n",
    "    plt.grid(True, alpha=0.3)\n",
    "    \n",
    "    # Annotate players\n",
    "    for _, row in wr_targets.iterrows():\n",
    "        plt.annotate(row['player_name'], \n",
    "                    (row['suggested_bid_1yr'], row['projected_ppg_ros']),\n",
    "                    fontsize=9, alpha=0.8,\n",
    "                    xytext=(5, 5), textcoords='offset points')\n",
    "    plt.tight_layout()\n",
    "    plt.show()"
   ]
  },
  {
   "cell_type": "markdown",
   "metadata": {},
   "source": [
    "### 2.3 TE Targets (Priority #3)"
   ]
  },
  {
   "cell_type": "code",
   "execution_count": 9,
   "metadata": {
    "execution": {
     "iopub.execute_input": "2025-10-27T22:49:15.363866Z",
     "iopub.status.busy": "2025-10-27T22:49:15.363813Z",
     "iopub.status.idle": "2025-10-27T22:49:15.366556Z",
     "shell.execute_reply": "2025-10-27T22:49:15.366394Z"
    }
   },
   "outputs": [
    {
     "name": "stdout",
     "output_type": "stream",
     "text": [
      "Top 8 TE Targets:\n"
     ]
    },
    {
     "data": {
      "text/html": [
       "<div>\n",
       "<style scoped>\n",
       "    .dataframe tbody tr th:only-of-type {\n",
       "        vertical-align: middle;\n",
       "    }\n",
       "\n",
       "    .dataframe tbody tr th {\n",
       "        vertical-align: top;\n",
       "    }\n",
       "\n",
       "    .dataframe thead th {\n",
       "        text-align: right;\n",
       "    }\n",
       "</style>\n",
       "<table border=\"1\" class=\"dataframe\">\n",
       "  <thead>\n",
       "    <tr style=\"text-align: right;\">\n",
       "      <th></th>\n",
       "      <th>priority_rank_at_position</th>\n",
       "      <th>player_name</th>\n",
       "      <th>nfl_team</th>\n",
       "      <th>fantasy_ppg_last_4</th>\n",
       "      <th>projected_ppg_ros</th>\n",
       "      <th>snap_share_l4</th>\n",
       "      <th>value_score</th>\n",
       "      <th>suggested_bid_1yr</th>\n",
       "      <th>suggested_bid_2yr</th>\n",
       "      <th>bid_confidence</th>\n",
       "    </tr>\n",
       "  </thead>\n",
       "  <tbody>\n",
       "  </tbody>\n",
       "</table>\n",
       "</div>"
      ],
      "text/plain": [
       "Empty DataFrame\n",
       "Columns: [priority_rank_at_position, player_name, nfl_team, fantasy_ppg_last_4, projected_ppg_ros, snap_share_l4, value_score, suggested_bid_1yr, suggested_bid_2yr, bid_confidence]\n",
       "Index: []"
      ]
     },
     "metadata": {},
     "output_type": "display_data"
    }
   ],
   "source": [
    "# Top 8 TEs Available\n",
    "te_targets = fasa_targets[fasa_targets['position'] == 'TE'].head(8)\n",
    "\n",
    "print(\"Top 8 TE Targets:\")\n",
    "display(te_targets[display_cols])"
   ]
  },
  {
   "cell_type": "code",
   "execution_count": 10,
   "metadata": {
    "execution": {
     "iopub.execute_input": "2025-10-27T22:49:15.367433Z",
     "iopub.status.busy": "2025-10-27T22:49:15.367383Z",
     "iopub.status.idle": "2025-10-27T22:49:15.369159Z",
     "shell.execute_reply": "2025-10-27T22:49:15.368989Z"
    }
   },
   "outputs": [],
   "source": [
    "# TE Value Matrix Visualization\n",
    "if len(te_targets) > 0:\n",
    "    plt.figure(figsize=(12, 8))\n",
    "    plt.scatter(te_targets['suggested_bid_1yr'], te_targets['projected_ppg_ros'], \n",
    "                s=100, alpha=0.6, c=te_targets['value_score'], cmap='RdYlGn')\n",
    "    plt.colorbar(label='Value Score')\n",
    "    plt.xlabel('Suggested Bid ($)', fontsize=12)\n",
    "    plt.ylabel('Projected PPG ROS', fontsize=12)\n",
    "    plt.title('TE Value Matrix: Projected Performance vs Bid Cost', fontsize=14, fontweight='bold')\n",
    "    plt.grid(True, alpha=0.3)\n",
    "    \n",
    "    # Annotate players\n",
    "    for _, row in te_targets.iterrows():\n",
    "        plt.annotate(row['player_name'], \n",
    "                    (row['suggested_bid_1yr'], row['projected_ppg_ros']),\n",
    "                    fontsize=9, alpha=0.8,\n",
    "                    xytext=(5, 5), textcoords='offset points')\n",
    "    plt.tight_layout()\n",
    "    plt.show()"
   ]
  },
  {
   "cell_type": "markdown",
   "metadata": {},
   "source": [
    "## 3. Bidding Strategy Matrix"
   ]
  },
  {
   "cell_type": "code",
   "execution_count": 11,
   "metadata": {
    "execution": {
     "iopub.execute_input": "2025-10-27T22:49:15.370058Z",
     "iopub.status.busy": "2025-10-27T22:49:15.370000Z",
     "iopub.status.idle": "2025-10-27T22:49:15.372037Z",
     "shell.execute_reply": "2025-10-27T22:49:15.371857Z"
    }
   },
   "outputs": [
    {
     "name": "stdout",
     "output_type": "stream",
     "text": [
      "RB STRATEGY (Position of Need):\n",
      "\n"
     ]
    }
   ],
   "source": [
    "# RB Bidding Strategy\n",
    "print(\"RB STRATEGY (Position of Need):\\n\")\n",
    "\n",
    "if len(rb_targets) >= 3:\n",
    "    rb_strategy = []\n",
    "    for i, (_, player) in enumerate(rb_targets.head(3).iterrows(), 1):\n",
    "        rb_strategy.append({\n",
    "            'Tier': f'RB{i}',\n",
    "            'Player': player['player_name'],\n",
    "            'Team': player['nfl_team'],\n",
    "            'Proj PPG': f\"{player['projected_ppg_ros']:.1f}\",\n",
    "            'Bid (1yr)': f\"${player['suggested_bid_1yr']:.0f}\",\n",
    "            'Bid (2yr)': f\"${player['suggested_bid_2yr']:.0f}\",\n",
    "            'Confidence': player['bid_confidence'],\n",
    "            'Logic': f\"Value score: {player['value_score']:.0f}, Snap%: {player['snap_share_l4']:.1f}%\"\n",
    "        })\n",
    "    \n",
    "    rb_strategy_df = pd.DataFrame(rb_strategy)\n",
    "    display(rb_strategy_df)\n",
    "    \n",
    "    print(\"\\nBIDDING SEQUENCE:\")\n",
    "    print(f\"1. Start with {rb_strategy_df.iloc[0]['Player']} bid at ${rb_targets.iloc[0]['suggested_bid_2yr']:.0f}/2yr\")\n",
    "    print(f\"2. If outbid, immediately move to {rb_strategy_df.iloc[1]['Player']} at ${rb_targets.iloc[1]['suggested_bid_1yr']:.0f}/1yr\")\n",
    "    print(\"3. Monitor WR bids; consider pivoting if tier 1 WR value emerges\")"
   ]
  },
  {
   "cell_type": "code",
   "execution_count": 12,
   "metadata": {
    "execution": {
     "iopub.execute_input": "2025-10-27T22:49:15.372910Z",
     "iopub.status.busy": "2025-10-27T22:49:15.372861Z",
     "iopub.status.idle": "2025-10-27T22:49:15.374537Z",
     "shell.execute_reply": "2025-10-27T22:49:15.374371Z"
    }
   },
   "outputs": [
    {
     "name": "stdout",
     "output_type": "stream",
     "text": [
      "\n",
      "WR STRATEGY:\n",
      "\n"
     ]
    }
   ],
   "source": [
    "# WR Bidding Strategy\n",
    "print(\"\\nWR STRATEGY:\\n\")\n",
    "\n",
    "if len(wr_targets) >= 3:\n",
    "    wr_strategy = []\n",
    "    for i, (_, player) in enumerate(wr_targets.head(3).iterrows(), 1):\n",
    "        wr_strategy.append({\n",
    "            'Tier': f'WR{i}',\n",
    "            'Player': player['player_name'],\n",
    "            'Team': player['nfl_team'],\n",
    "            'Proj PPG': f\"{player['projected_ppg_ros']:.1f}\",\n",
    "            'Bid (1yr)': f\"${player['suggested_bid_1yr']:.0f}\",\n",
    "            'Bid (2yr)': f\"${player['suggested_bid_2yr']:.0f}\",\n",
    "            'Confidence': player['bid_confidence']\n",
    "        })\n",
    "    \n",
    "    wr_strategy_df = pd.DataFrame(wr_strategy)\n",
    "    display(wr_strategy_df)"
   ]
  },
  {
   "cell_type": "code",
   "execution_count": 13,
   "metadata": {
    "execution": {
     "iopub.execute_input": "2025-10-27T22:49:15.375420Z",
     "iopub.status.busy": "2025-10-27T22:49:15.375355Z",
     "iopub.status.idle": "2025-10-27T22:49:15.377096Z",
     "shell.execute_reply": "2025-10-27T22:49:15.376915Z"
    }
   },
   "outputs": [
    {
     "name": "stdout",
     "output_type": "stream",
     "text": [
      "\n",
      "TE STRATEGY:\n",
      "\n"
     ]
    }
   ],
   "source": [
    "# TE Bidding Strategy\n",
    "print(\"\\nTE STRATEGY:\\n\")\n",
    "\n",
    "if len(te_targets) >= 2:\n",
    "    te_strategy = []\n",
    "    for i, (_, player) in enumerate(te_targets.head(2).iterrows(), 1):\n",
    "        te_strategy.append({\n",
    "            'Tier': f'TE{i}',\n",
    "            'Player': player['player_name'],\n",
    "            'Team': player['nfl_team'],\n",
    "            'Proj PPG': f\"{player['projected_ppg_ros']:.1f}\",\n",
    "            'Bid (1yr)': f\"${player['suggested_bid_1yr']:.0f}\",\n",
    "            'Bid (2yr)': f\"${player['suggested_bid_2yr']:.0f}\",\n",
    "            'Confidence': player['bid_confidence']\n",
    "        })\n",
    "    \n",
    "    te_strategy_df = pd.DataFrame(te_strategy)\n",
    "    display(te_strategy_df)"
   ]
  },
  {
   "cell_type": "markdown",
   "metadata": {},
   "source": [
    "## 4. Drop Scenarios (if cap space needed)"
   ]
  },
  {
   "cell_type": "code",
   "execution_count": 14,
   "metadata": {
    "execution": {
     "iopub.execute_input": "2025-10-27T22:49:15.378022Z",
     "iopub.status.busy": "2025-10-27T22:49:15.377964Z",
     "iopub.status.idle": "2025-10-27T22:49:15.379595Z",
     "shell.execute_reply": "2025-10-27T22:49:15.379428Z"
    }
   },
   "outputs": [],
   "source": [
    "# Assess cap needs for top bid\n",
    "if len(rb_targets) > 0:\n",
    "    top_rb_bid = rb_targets.iloc[0]['suggested_bid_2yr']\n",
    "    cap_needed = top_rb_bid\n",
    "    cap_gap = current_cap - cap_needed\n",
    "    \n",
    "    print(f\"Current Cap: ${current_cap}\")\n",
    "    print(f\"Needed for RB1 bid: ${cap_needed:.0f}\")\n",
    "    print(f\"Gap: ${cap_gap:.0f}\")\n",
    "    \n",
    "    if cap_gap < 0:\n",
    "        print(f\"\\n⚠️  NEED TO CREATE ${abs(cap_gap):.0f} IN CAP SPACE\\n\")\n",
    "    else:\n",
    "        print(\"\\n✅ SUFFICIENT CAP SPACE\\n\")"
   ]
  },
  {
   "cell_type": "code",
   "execution_count": 15,
   "metadata": {
    "execution": {
     "iopub.execute_input": "2025-10-27T22:49:15.380422Z",
     "iopub.status.busy": "2025-10-27T22:49:15.380374Z",
     "iopub.status.idle": "2025-10-27T22:49:15.383753Z",
     "shell.execute_reply": "2025-10-27T22:49:15.383536Z"
    }
   },
   "outputs": [
    {
     "name": "stdout",
     "output_type": "stream",
     "text": [
      "Top 5 Drop Candidates:\n",
      "\n"
     ]
    },
    {
     "data": {
      "text/html": [
       "<div>\n",
       "<style scoped>\n",
       "    .dataframe tbody tr th:only-of-type {\n",
       "        vertical-align: middle;\n",
       "    }\n",
       "\n",
       "    .dataframe tbody tr th {\n",
       "        vertical-align: top;\n",
       "    }\n",
       "\n",
       "    .dataframe thead th {\n",
       "        text-align: right;\n",
       "    }\n",
       "</style>\n",
       "<table border=\"1\" class=\"dataframe\">\n",
       "  <thead>\n",
       "    <tr style=\"text-align: right;\">\n",
       "      <th></th>\n",
       "      <th>player_name</th>\n",
       "      <th>position</th>\n",
       "      <th>current_year_cap_hit</th>\n",
       "      <th>dead_cap_if_cut_now</th>\n",
       "      <th>cap_space_freed</th>\n",
       "      <th>projected_ppg_ros</th>\n",
       "      <th>droppable_score</th>\n",
       "      <th>drop_recommendation</th>\n",
       "    </tr>\n",
       "  </thead>\n",
       "  <tbody>\n",
       "    <tr>\n",
       "      <th>0</th>\n",
       "      <td>Justin Armour</td>\n",
       "      <td>WR</td>\n",
       "      <td>1.0</td>\n",
       "      <td>0.75</td>\n",
       "      <td>0.25</td>\n",
       "      <td>NaN</td>\n",
       "      <td>20</td>\n",
       "      <td>KEEP</td>\n",
       "    </tr>\n",
       "    <tr>\n",
       "      <th>1</th>\n",
       "      <td>Marco Coleman</td>\n",
       "      <td>DE</td>\n",
       "      <td>2.0</td>\n",
       "      <td>1.00</td>\n",
       "      <td>1.00</td>\n",
       "      <td>NaN</td>\n",
       "      <td>20</td>\n",
       "      <td>KEEP</td>\n",
       "    </tr>\n",
       "    <tr>\n",
       "      <th>2</th>\n",
       "      <td>Steve Foley</td>\n",
       "      <td>LB</td>\n",
       "      <td>7.0</td>\n",
       "      <td>7.00</td>\n",
       "      <td>0.00</td>\n",
       "      <td>NaN</td>\n",
       "      <td>0</td>\n",
       "      <td>KEEP</td>\n",
       "    </tr>\n",
       "  </tbody>\n",
       "</table>\n",
       "</div>"
      ],
      "text/plain": [
       "     player_name position  current_year_cap_hit  dead_cap_if_cut_now  \\\n",
       "0  Justin Armour       WR                   1.0                 0.75   \n",
       "1  Marco Coleman       DE                   2.0                 1.00   \n",
       "2    Steve Foley       LB                   7.0                 7.00   \n",
       "\n",
       "   cap_space_freed  projected_ppg_ros  droppable_score drop_recommendation  \n",
       "0             0.25                NaN               20                KEEP  \n",
       "1             1.00                NaN               20                KEEP  \n",
       "2             0.00                NaN                0                KEEP  "
      ]
     },
     "metadata": {},
     "output_type": "display_data"
    }
   ],
   "source": [
    "# Top Drop Candidates\n",
    "print(\"Top 5 Drop Candidates:\\n\")\n",
    "\n",
    "drop_candidates = my_roster_droppable.head(5)\n",
    "\n",
    "drop_cols = [\n",
    "    'player_name',\n",
    "    'position',\n",
    "    'current_year_cap_hit',\n",
    "    'dead_cap_if_cut_now',\n",
    "    'cap_space_freed',\n",
    "    'projected_ppg_ros',\n",
    "    'droppable_score',\n",
    "    'drop_recommendation'\n",
    "]\n",
    "\n",
    "display(drop_candidates[drop_cols])"
   ]
  },
  {
   "cell_type": "code",
   "execution_count": 16,
   "metadata": {
    "execution": {
     "iopub.execute_input": "2025-10-27T22:49:15.384709Z",
     "iopub.status.busy": "2025-10-27T22:49:15.384653Z",
     "iopub.status.idle": "2025-10-27T22:49:15.387028Z",
     "shell.execute_reply": "2025-10-27T22:49:15.386782Z"
    }
   },
   "outputs": [
    {
     "name": "stdout",
     "output_type": "stream",
     "text": [
      "\n",
      "Drop Scenario Analysis:\n",
      "\n"
     ]
    }
   ],
   "source": [
    "# Scenario Analysis\n",
    "print(\"\\nDrop Scenario Analysis:\\n\")\n",
    "\n",
    "if len(drop_candidates) > 0 and len(rb_targets) > 0:\n",
    "    top_rb_ppg = rb_targets.iloc[0]['projected_ppg_ros']\n",
    "    \n",
    "    scenarios = []\n",
    "    for _, player in drop_candidates.head(3).iterrows():\n",
    "        cap_freed = player['cap_space_freed']\n",
    "        dead_cap = player['dead_cap_if_cut_now']\n",
    "        net_benefit = cap_freed - dead_cap\n",
    "        value_lost = player['projected_ppg_ros']\n",
    "        ppg_upgrade = top_rb_ppg - value_lost\n",
    "        worth_it = \"✅ YES\" if ppg_upgrade > 3 else \"⚠️ MARGINAL\" if ppg_upgrade > 1 else \"❌ NO\"\n",
    "        \n",
    "        scenarios.append({\n",
    "            'If I drop': player['player_name'],\n",
    "            'Cap Freed': f\"${cap_freed:.0f}\",\n",
    "            'Dead Cap': f\"${dead_cap:.0f}\",\n",
    "            'Net Benefit': f\"${net_benefit:.0f}\",\n",
    "            'Value Lost (PPG)': f\"{value_lost:.1f}\",\n",
    "            'PPG Upgrade': f\"+{ppg_upgrade:.1f}\",\n",
    "            'Worth It?': worth_it\n",
    "        })\n",
    "    \n",
    "    scenarios_df = pd.DataFrame(scenarios)\n",
    "    display(scenarios_df)"
   ]
  },
  {
   "cell_type": "markdown",
   "metadata": {},
   "source": [
    "## 5. Position Depth Analysis"
   ]
  },
  {
   "cell_type": "code",
   "execution_count": 17,
   "metadata": {
    "execution": {
     "iopub.execute_input": "2025-10-27T22:49:15.388005Z",
     "iopub.status.busy": "2025-10-27T22:49:15.387949Z",
     "iopub.status.idle": "2025-10-27T22:49:15.391576Z",
     "shell.execute_reply": "2025-10-27T22:49:15.391356Z"
    }
   },
   "outputs": [
    {
     "name": "stdout",
     "output_type": "stream",
     "text": [
      "My Current RB Depth:\n"
     ]
    },
    {
     "data": {
      "text/html": [
       "<div>\n",
       "<style scoped>\n",
       "    .dataframe tbody tr th:only-of-type {\n",
       "        vertical-align: middle;\n",
       "    }\n",
       "\n",
       "    .dataframe tbody tr th {\n",
       "        vertical-align: top;\n",
       "    }\n",
       "\n",
       "    .dataframe thead th {\n",
       "        text-align: right;\n",
       "    }\n",
       "</style>\n",
       "<table border=\"1\" class=\"dataframe\">\n",
       "  <thead>\n",
       "    <tr style=\"text-align: right;\">\n",
       "      <th></th>\n",
       "      <th>player_name</th>\n",
       "      <th>projected_ppg_ros</th>\n",
       "      <th>current_year_cap_hit</th>\n",
       "    </tr>\n",
       "  </thead>\n",
       "  <tbody>\n",
       "  </tbody>\n",
       "</table>\n",
       "</div>"
      ],
      "text/plain": [
       "Empty DataFrame\n",
       "Columns: [player_name, projected_ppg_ros, current_year_cap_hit]\n",
       "Index: []"
      ]
     },
     "metadata": {},
     "output_type": "display_data"
    }
   ],
   "source": [
    "# My Current RB Depth\n",
    "my_rbs = my_roster_droppable[\n",
    "    my_roster_droppable['position'] == 'RB'\n",
    "].sort_values('projected_ppg_ros', ascending=False)\n",
    "\n",
    "print(\"My Current RB Depth:\")\n",
    "display(my_rbs[['player_name', 'projected_ppg_ros', 'current_year_cap_hit']].head(5))\n",
    "\n",
    "# Calculate depth metrics\n",
    "if len(my_rbs) >= 3:\n",
    "    my_rb_ppg = my_rbs['projected_ppg_ros'].head(3).tolist()\n",
    "    league_median_rb_ppg = [12.5, 8.7, 4.5]  # Approximate league medians\n",
    "    \n",
    "    print(f\"\\nMy RB1: {my_rb_ppg[0]:.1f} PPG (League median: {league_median_rb_ppg[0]} PPG)\")\n",
    "    print(f\"My RB2: {my_rb_ppg[1]:.1f} PPG (League median: {league_median_rb_ppg[1]} PPG)\")\n",
    "    print(f\"My RB3: {my_rb_ppg[2]:.1f} PPG (League median: {league_median_rb_ppg[2]} PPG)\")"
   ]
  },
  {
   "cell_type": "code",
   "execution_count": 18,
   "metadata": {
    "execution": {
     "iopub.execute_input": "2025-10-27T22:49:15.392576Z",
     "iopub.status.busy": "2025-10-27T22:49:15.392509Z",
     "iopub.status.idle": "2025-10-27T22:49:15.394445Z",
     "shell.execute_reply": "2025-10-27T22:49:15.394269Z"
    }
   },
   "outputs": [],
   "source": [
    "# Visualize RB depth comparison\n",
    "if len(my_rbs) >= 3:\n",
    "    fig, ax = plt.subplots(figsize=(10, 6))\n",
    "    \n",
    "    x = ['RB1', 'RB2', 'RB3']\n",
    "    width = 0.35\n",
    "    x_pos = range(len(x))\n",
    "    \n",
    "    ax.bar([p - width/2 for p in x_pos], my_rb_ppg, width, label='My Team', alpha=0.8, color='steelblue')\n",
    "    ax.bar([p + width/2 for p in x_pos], league_median_rb_ppg, width, label='League Median', alpha=0.8, color='coral')\n",
    "    \n",
    "    ax.set_ylabel('PPG', fontsize=12)\n",
    "    ax.set_xlabel('Position', fontsize=12)\n",
    "    ax.set_title('My RB Depth vs League Median', fontsize=14, fontweight='bold')\n",
    "    ax.set_xticks(x_pos)\n",
    "    ax.set_xticklabels(x)\n",
    "    ax.legend()\n",
    "    ax.grid(True, alpha=0.3, axis='y')\n",
    "    \n",
    "    plt.tight_layout()\n",
    "    plt.show()"
   ]
  },
  {
   "cell_type": "code",
   "execution_count": 19,
   "metadata": {
    "execution": {
     "iopub.execute_input": "2025-10-27T22:49:15.395302Z",
     "iopub.status.busy": "2025-10-27T22:49:15.395245Z",
     "iopub.status.idle": "2025-10-27T22:49:15.397549Z",
     "shell.execute_reply": "2025-10-27T22:49:15.397348Z"
    }
   },
   "outputs": [],
   "source": [
    "# FLEX Performance Impact & ROI Calculation\n",
    "if len(my_rbs) >= 2 and len(rb_targets) > 0:\n",
    "    current_flex_ppg = my_rbs.iloc[1]['projected_ppg_ros']  # RB2 currently in FLEX\n",
    "    top_rb_ppg = rb_targets.iloc[0]['projected_ppg_ros']\n",
    "    new_flex_ppg = my_rbs.iloc[0]['projected_ppg_ros']  # Current RB1 would move to FLEX\n",
    "    \n",
    "    ppg_gain = new_flex_ppg - current_flex_ppg\n",
    "    weeks_remaining = 9\n",
    "    total_points_gain = ppg_gain * weeks_remaining\n",
    "    \n",
    "    bid_cost = rb_targets.iloc[0]['suggested_bid_2yr']\n",
    "    cost_per_point = bid_cost / total_points_gain if total_points_gain > 0 else 0\n",
    "    league_median_cpp = 1.20  # Approximate\n",
    "    \n",
    "    print(\"FLEX PERFORMANCE IMPACT:\\n\")\n",
    "    print(f\"Current FLEX avg: {current_flex_ppg:.1f} PPG ({my_rbs.iloc[1]['player_name']})\")\n",
    "    print(f\"If I add RB1 target (proj {top_rb_ppg:.1f} PPG), new FLEX: {new_flex_ppg:.1f} PPG ({my_rbs.iloc[0]['player_name']})\")\n",
    "    print(f\"Expected gain: +{ppg_gain:.1f} PPG/week × {weeks_remaining} weeks = +{total_points_gain:.0f} total points\")\n",
    "    \n",
    "    print(\"\\nROI CALCULATION:\\n\")\n",
    "    print(f\"Bid cost: ${bid_cost:.0f}\")\n",
    "    print(f\"Expected points gained: +{total_points_gain:.0f} points ROS\")\n",
    "    print(f\"Cost per point: ${cost_per_point:.2f}/point\")\n",
    "    print(f\"League median cost/point: ${league_median_cpp:.2f}/point\")\n",
    "    \n",
    "    if cost_per_point < league_median_cpp:\n",
    "        print(f\"\\n✅ GOOD VALUE (${(league_median_cpp - cost_per_point):.2f}/point better than median)\")\n",
    "    else:\n",
    "        print(f\"\\n⚠️ EXPENSIVE (${(cost_per_point - league_median_cpp):.2f}/point worse than median)\")"
   ]
  },
  {
   "cell_type": "markdown",
   "metadata": {},
   "source": [
    "## 6. Final Recommendation"
   ]
  },
  {
   "cell_type": "code",
   "execution_count": 20,
   "metadata": {
    "execution": {
     "iopub.execute_input": "2025-10-27T22:49:15.398537Z",
     "iopub.status.busy": "2025-10-27T22:49:15.398473Z",
     "iopub.status.idle": "2025-10-27T22:49:15.401419Z",
     "shell.execute_reply": "2025-10-27T22:49:15.401244Z"
    }
   },
   "outputs": [
    {
     "name": "stdout",
     "output_type": "stream",
     "text": [
      "============================================================\n",
      "FINAL FASA RECOMMENDATION\n",
      "============================================================\n"
     ]
    }
   ],
   "source": [
    "# Generate final recommendation\n",
    "print(\"=\"*60)\n",
    "print(\"FINAL FASA RECOMMENDATION\")\n",
    "print(\"=\"*60)\n",
    "\n",
    "if len(rb_targets) > 0:\n",
    "    primary_target = rb_targets.iloc[0]\n",
    "    contingency_target = rb_targets.iloc[1] if len(rb_targets) > 1 else None\n",
    "    top_drop = drop_candidates.iloc[0] if len(drop_candidates) > 0 else None\n",
    "    \n",
    "    print(\"\\n📌 PRIMARY BID:\")\n",
    "    print(f\"   Target: {primary_target['player_name']} ({primary_target['nfl_team']})\")\n",
    "    print(f\"   Position: {primary_target['position']}\")\n",
    "    print(f\"   Bid: ${primary_target['suggested_bid_2yr']:.0f}/2yr (${primary_target['suggested_bid_2yr']/2:.2f} AAV)\")\n",
    "    print(f\"   Projected: {primary_target['projected_ppg_ros']:.1f} PPG ROS\")\n",
    "    print(f\"   Value Score: {primary_target['value_score']:.0f}\")\n",
    "    print(f\"   Confidence: {primary_target['bid_confidence']}\")\n",
    "    \n",
    "    if cap_gap < 0 and top_drop is not None:\n",
    "        print(f\"   Cap impact: Drop {top_drop['player_name']} to create ${top_drop['cap_space_freed']:.0f} space\")\n",
    "        expected_upgrade = primary_target['projected_ppg_ros'] - top_drop['projected_ppg_ros']\n",
    "        print(f\"   Expected impact: +{expected_upgrade:.1f} PPG upgrade\")\n",
    "    \n",
    "    print(\"\\n🔄 CONTINGENCY PLAN:\")\n",
    "    if contingency_target is not None:\n",
    "        print(f\"   If outbid on {primary_target['player_name']}, immediately bid ${contingency_target['suggested_bid_1yr']:.0f}/1yr on {contingency_target['player_name']}\")\n",
    "    if len(wr_targets) > 0:\n",
    "        top_wr = wr_targets.iloc[0]\n",
    "        print(f\"   If RB market too expensive, pivot to {top_wr['player_name']} (WR) at ${top_wr['suggested_bid_2yr']:.0f}/2yr\")\n",
    "    \n",
    "    if top_drop is not None and cap_gap < 0:\n",
    "        print(\"\\n🗑️  DROP DECISION:\")\n",
    "        print(f\"   Drop: {top_drop['player_name']} ({top_drop['position']})\")\n",
    "        print(f\"   Cap freed: ${top_drop['cap_space_freed']:.0f}\")\n",
    "        print(f\"   Dead cap: ${top_drop['dead_cap_if_cut_now']:.0f}\")\n",
    "        print(f\"   Value lost: {top_drop['projected_ppg_ros']:.1f} PPG\")\n",
    "        print(f\"   Recommendation: {top_drop['drop_recommendation']}\")\n",
    "    \n",
    "    print(\"\\n\" + \"=\"*60)"
   ]
  },
  {
   "cell_type": "code",
   "execution_count": 21,
   "metadata": {
    "execution": {
     "iopub.execute_input": "2025-10-27T22:49:15.402304Z",
     "iopub.status.busy": "2025-10-27T22:49:15.402256Z",
     "iopub.status.idle": "2025-10-27T22:49:15.404794Z",
     "shell.execute_reply": "2025-10-27T22:49:15.404597Z"
    }
   },
   "outputs": [
    {
     "name": "stdout",
     "output_type": "stream",
     "text": [
      "\n",
      "📊 SUMMARY STATISTICS:\n",
      "\n",
      "Total FASA targets analyzed: 0\n",
      "RB targets: 0\n",
      "WR targets: 0\n",
      "TE targets: 0\n",
      "\n",
      "My roster size: 3\n",
      "Drop candidates identified: 0\n",
      "\n",
      "Current cap space: $80\n",
      "N/A\n"
     ]
    }
   ],
   "source": [
    "# Summary statistics\n",
    "print(\"\\n📊 SUMMARY STATISTICS:\\n\")\n",
    "print(f\"Total FASA targets analyzed: {len(fasa_targets)}\")\n",
    "print(f\"RB targets: {len(fasa_targets[fasa_targets['position'] == 'RB'])}\")\n",
    "print(f\"WR targets: {len(fasa_targets[fasa_targets['position'] == 'WR'])}\")\n",
    "print(f\"TE targets: {len(fasa_targets[fasa_targets['position'] == 'TE'])}\")\n",
    "print(f\"\\nMy roster size: {len(my_roster_droppable)}\")\n",
    "print(f\"Drop candidates identified: {len(my_roster_droppable[my_roster_droppable['drop_recommendation'].str.contains('Consider', na=False)])}\")\n",
    "print(f\"\\nCurrent cap space: ${current_cap}\")\n",
    "print(f\"Projected spend (primary bid): ${rb_targets.iloc[0]['suggested_bid_2yr']:.0f}\" if len(rb_targets) > 0 else \"N/A\")"
   ]
  }
 ],
 "metadata": {
  "kernelspec": {
   "display_name": "Python 3",
   "language": "python",
   "name": "python3"
  },
  "language_info": {
   "codemirror_mode": {
    "name": "ipython",
    "version": 3
   },
   "file_extension": ".py",
   "mimetype": "text/x-python",
   "name": "python",
   "nbconvert_exporter": "python",
   "pygments_lexer": "ipython3",
   "version": "3.13.6"
  }
 },
 "nbformat": 4,
 "nbformat_minor": 4
}
