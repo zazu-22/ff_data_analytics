{
 "cells": [
  {
   "cell_type": "markdown",
   "id": "0c12400a-fcb3-4136-b15b-2f451397232c",
   "metadata": {},
   "source": [
    "# Load nflverse data"
   ]
  },
  {
   "cell_type": "markdown",
   "id": "8471d37c-e460-4fef-9c0d-31ecf384ac1d",
   "metadata": {},
   "source": [
    "## Overview"
   ]
  },
  {
   "cell_type": "markdown",
   "id": "a08544b7-8bec-4f1e-9b1a-3c899c73bb57",
   "metadata": {},
   "source": [
    "\n",
    "A Python package for downloading NFL data from nflverse repositories. This is a Python port of the popular R package nflreadr, designed to provide easy access to NFL data with caching, progress tracking, and modern Python conventions.\n",
    "\n",
    "**Features**:¶\n",
    "\n",
    "* Compatible API with nflreadr R package\n",
    "* Fast data loading with Polars DataFrames\n",
    "* Intelligent caching (memory or filesystem)\n",
    "* Progress tracking for large downloads\n",
    "\n",
    "**Links**:\n",
    "\n",
    "* Main page: https://nflreadpy.nflverse.com/\n",
    "* Load functions: https://nflreadpy.nflverse.com/api/load_functions/\n",
    "* Configuration: https://nflreadpy.nflverse.com/api/configuration/\n",
    "* Utilities: https://nflreadpy.nflverse.com/api/utils/"
   ]
  },
  {
   "cell_type": "markdown",
   "id": "c771dc59-71d9-4150-bcc9-e0d461cef076",
   "metadata": {},
   "source": [
    "Examples of using the nflreadpy library:\n",
    "\n",
    "```python\n",
    "import nflreadpy as nfl\n",
    "\n",
    "# Load current season play-by-play data\n",
    "pbp = nfl.load_pbp()\n",
    "\n",
    "# Load player game-level stats for multiple seasons\n",
    "player_stats = nfl.load_player_stats([2022, 2023])\n",
    "\n",
    "# Load all available team level stats\n",
    "team_stats = nfl.load_team_stats(seasons=True)\n",
    "\n",
    "# nflreadpy uses Polars instead of pandas. Convert to pandas if needed:\n",
    "pbp_pandas = pbp.to_pandas()\n",
    "```"
   ]
  },
  {
   "cell_type": "markdown",
   "id": "9f32e402-c548-44a9-be79-d6ffc17e9dd2",
   "metadata": {},
   "source": [
    "## Config"
   ]
  },
  {
   "cell_type": "code",
   "execution_count": 75,
   "id": "ee14b959-2339-4556-9551-5b3803659ce1",
   "metadata": {},
   "outputs": [],
   "source": [
    "import nflreadpy as nfl\n",
    "import polars as pl"
   ]
  },
  {
   "cell_type": "code",
   "execution_count": 47,
   "id": "b1ba45ed-ec1d-4064-82aa-7216d782b7b8",
   "metadata": {},
   "outputs": [
    {
     "name": "stdout",
     "output_type": "stream",
     "text": [
      "Current season: 2025\n",
      "Current week: 3\n"
     ]
    }
   ],
   "source": [
    "''' Utility Functions\n",
    "get_current_season(roster: bool = False) -> int\n",
    "get_current_week() -> int\n",
    "'''\n",
    "\n",
    "# Set current season\n",
    "cur_season = nfl.get_current_season()\n",
    "print(f\"Current season: {cur_season}\")\n",
    "\n",
    "# Set current week\n",
    "cur_week = nfl.get_current_week()\n",
    "print(f\"Current week: {cur_week}\")"
   ]
  },
  {
   "cell_type": "markdown",
   "id": "75b6e5f6-5f71-4fab-8d75-e93629b0ac29",
   "metadata": {},
   "source": [
    "## Helper Functions"
   ]
  },
  {
   "cell_type": "code",
   "execution_count": 98,
   "id": "c5b4ebea-bc2a-4397-8afc-12779325268c",
   "metadata": {},
   "outputs": [],
   "source": [
    "''' Note: These functions have not been tested with\n",
    "functions other than load player stats\n",
    "'''\n",
    "\n",
    "# Renames player_id column to gsis_id to match actual name of the id\n",
    "def rename_col_player_id_to_gsis_id(df):\n",
    "    return df.rename({\"player_id\": \"gsis_id\"})\n",
    "\n",
    "# Uses summary level to help with file name\n",
    "def set_file_suffix(summary_level):\n",
    "    if summary_level == \"week\":\n",
    "        file_suffix = \"wkly\"\n",
    "    elif summary_level == \"reg+post\":\n",
    "        file_suffix = \"full\"\n",
    "    else:\n",
    "        file_suffix = summary_level\n",
    "    return file_suffix\n",
    "\n",
    "# Saves df to csv\n",
    "def save_csv(df, stat_type, season, grouping):\n",
    "    file_suffix = set_file_suffix(grouping)\n",
    "    file_name = f\"{stat_type}_{season}_{file_suffix}.csv\"\n",
    "    df.write_csv(file_name, separator=\",\", include_header=True)\n",
    "    print(f\"Wrote DataFrame to '{file_name}'.\")"
   ]
  },
  {
   "cell_type": "markdown",
   "id": "73f1c23f-083c-4dbb-8801-4bbb3921cad5",
   "metadata": {},
   "source": [
    "## Player NFL Statistics"
   ]
  },
  {
   "cell_type": "markdown",
   "id": "aaee76e7-1d14-47ce-9b20-dff36d0a6458",
   "metadata": {},
   "source": [
    "### Load Player Statistics\n",
    "\n",
    "```python\n",
    "load_player_stats(\n",
    "    seasons: int | list[int] | bool | None = None,\n",
    "    summary_level: Literal[\n",
    "        \"week\", \"reg\", \"post\", \"reg+post\"\n",
    "    ] = \"week\",\n",
    ") -> pl.DataFrame\n",
    "```"
   ]
  },
  {
   "cell_type": "markdown",
   "id": "9d42ef0a-db7a-4d37-8406-b5bf38958bbe",
   "metadata": {},
   "source": [
    "#### Load Player Stats for Past Seasons"
   ]
  },
  {
   "cell_type": "code",
   "execution_count": 74,
   "id": "5c8b73e3-712e-4476-ab95-9b616c0f8ece",
   "metadata": {
    "scrolled": true
   },
   "outputs": [
    {
     "name": "stdout",
     "output_type": "stream",
     "text": [
      "Wrote DataFrame to 'plr_stats_2022_wkly.csv'.\n",
      "Wrote DataFrame to 'plr_stats_2021_wkly.csv'.\n",
      "Wrote DataFrame to 'plr_stats_2020_wkly.csv'.\n",
      "Wrote DataFrame to 'plr_stats_2019_wkly.csv'.\n",
      "Wrote DataFrame to 'plr_stats_2018_wkly.csv'.\n",
      "Wrote DataFrame to 'plr_stats_2017_wkly.csv'.\n",
      "Wrote DataFrame to 'plr_stats_2016_wkly.csv'.\n",
      "Wrote DataFrame to 'plr_stats_2015_wkly.csv'.\n",
      "Wrote DataFrame to 'plr_stats_2022_reg.csv'.\n",
      "Wrote DataFrame to 'plr_stats_2021_reg.csv'.\n",
      "Wrote DataFrame to 'plr_stats_2020_reg.csv'.\n",
      "Wrote DataFrame to 'plr_stats_2019_reg.csv'.\n",
      "Wrote DataFrame to 'plr_stats_2018_reg.csv'.\n",
      "Wrote DataFrame to 'plr_stats_2017_reg.csv'.\n",
      "Wrote DataFrame to 'plr_stats_2016_reg.csv'.\n",
      "Wrote DataFrame to 'plr_stats_2015_reg.csv'.\n",
      "Wrote DataFrame to 'plr_stats_2022_post.csv'.\n",
      "Wrote DataFrame to 'plr_stats_2021_post.csv'.\n",
      "Wrote DataFrame to 'plr_stats_2020_post.csv'.\n",
      "Wrote DataFrame to 'plr_stats_2019_post.csv'.\n",
      "Wrote DataFrame to 'plr_stats_2018_post.csv'.\n",
      "Wrote DataFrame to 'plr_stats_2017_post.csv'.\n",
      "Wrote DataFrame to 'plr_stats_2016_post.csv'.\n",
      "Wrote DataFrame to 'plr_stats_2015_post.csv'.\n",
      "Wrote DataFrame to 'plr_stats_2022_full.csv'.\n",
      "Wrote DataFrame to 'plr_stats_2021_full.csv'.\n",
      "Wrote DataFrame to 'plr_stats_2020_full.csv'.\n",
      "Wrote DataFrame to 'plr_stats_2019_full.csv'.\n",
      "Wrote DataFrame to 'plr_stats_2018_full.csv'.\n",
      "Wrote DataFrame to 'plr_stats_2017_full.csv'.\n",
      "Wrote DataFrame to 'plr_stats_2016_full.csv'.\n",
      "Wrote DataFrame to 'plr_stats_2015_full.csv'.\n"
     ]
    }
   ],
   "source": [
    "''' TODO: Improve CSV output to allow for specifying output directory and to\n",
    "organize by season\n",
    "'''\n",
    "\n",
    "# Save historical player statistics by season from list of seasons\n",
    "def save_player_stats_hist(season_list, summary_level):\n",
    "    for year in season_list:\n",
    "        season = year\n",
    "        # Get player stats for past season by week\n",
    "        plr_stats = nfl.load_player_stats(season, summary_level)\n",
    "        # Rename 'player_id' column to 'nfl_id' to match core.player_id table schema\n",
    "        plr_stats = rename_col_player_id(plr_stats)\n",
    "        # Save to csv file\n",
    "        save_csv(plr_stats, \"plr_stats\", season, summary_level)\n",
    "    return\n",
    "\n",
    "if __name__ == \"__main__\":\n",
    "\n",
    "    # Define list of seasons\n",
    "    hist_seasons_plr_stats = [\n",
    "        2022,\n",
    "        2021,\n",
    "        2020,\n",
    "        2019,\n",
    "        2018,\n",
    "        2017,\n",
    "        2016,\n",
    "        2015\n",
    "]\n",
    "    # Save by week\n",
    "    save_player_stats_hist(hist_seasons_plr_stats, \"week\")\n",
    "    \n",
    "    # Save by regular season\n",
    "    save_player_stats_hist(hist_seasons_plr_stats, \"reg\")\n",
    "\n",
    "    # Save by post season\n",
    "    save_player_stats_hist(hist_seasons_plr_stats, \"post\")\n",
    "\n",
    "    # Save by full season\n",
    "    save_player_stats_hist(hist_seasons_plr_stats, \"reg+post\")\n"
   ]
  },
  {
   "cell_type": "markdown",
   "id": "0a362eb5-edcf-4752-8e3d-de41fc543466",
   "metadata": {
    "jp-MarkdownHeadingCollapsed": true
   },
   "source": [
    "#### Load Player Stats for Current Season"
   ]
  },
  {
   "cell_type": "code",
   "execution_count": 48,
   "id": "fcda292f-43ef-40b6-9b89-3946e154e6ad",
   "metadata": {},
   "outputs": [
    {
     "name": "stdout",
     "output_type": "stream",
     "text": [
      "Wrote DataFrame to 'plr_stats_wkly_2025-3.csv'.\n",
      "Wrote DataFrame to 'plr_stats_reg_2025-3.csv'.\n"
     ]
    }
   ],
   "source": [
    "''' TODO: Enhance this with function using approach \n",
    "in load historical player stats above\n",
    "'''\n",
    "\n",
    "# Get current season player stats by week\n",
    "plr_stats_cur_season_wkly = nfl.load_player_stats(cur_season, \"week\")\n",
    "# Save current season player stats by week to csv\n",
    "save_csv(plr_stats_cur_season_wkly, f\"plr_stats_wkly_{cur_season}-{cur_week}.csv\")\n",
    "\n",
    "# Get current season player stats by regular season\n",
    "plr_stats_cur_season_reg = nfl.load_player_stats(cur_season, \"reg\")\n",
    "# Save current season player stats by regular season to csv\n",
    "save_csv(plr_stats_cur_season_reg, f\"plr_stats_reg_{cur_season}-{cur_week}.csv\")"
   ]
  },
  {
   "cell_type": "markdown",
   "id": "61668106-e04e-4ce0-a65d-8061dda3a0ed",
   "metadata": {},
   "source": [
    "### Load NextGen Stats\n",
    "\n",
    "```python\n",
    "load_nextgen_stats(\n",
    "    seasons: int | list[int] | bool | None = None,\n",
    "    stat_type: Literal[\n",
    "        \"passing\", \"receiving\", \"rushing\"\n",
    "    ] = \"passing\",\n",
    ") -> pl.DataFrame\n",
    "```"
   ]
  },
  {
   "cell_type": "markdown",
   "id": "ec807f56-af9d-48e7-9f6a-dc05397c29cc",
   "metadata": {},
   "source": [
    "### Load Participation Data\n",
    "\n",
    "```python\n",
    "load_participation(\n",
    "    seasons: int | list[int] | bool | None = None,\n",
    ") -> pl.DataFrame\n",
    "```\n",
    "\n",
    "**Note:** Data available since 2016."
   ]
  },
  {
   "cell_type": "markdown",
   "id": "435324de-6ee5-464d-b2e0-4647fda6110f",
   "metadata": {},
   "source": [
    "### Load Injury Data\n",
    "\n",
    "```python\n",
    "load_injuries(\n",
    "    seasons: int | list[int] | bool | None = None,\n",
    ") -> pl.DataFrame\n",
    "```"
   ]
  },
  {
   "cell_type": "markdown",
   "id": "a0a88432-c59a-4be6-b33f-1a6b065527fe",
   "metadata": {},
   "source": [
    "### Load Snap Counts\n",
    "\n",
    "```python\n",
    "load_snap_counts(\n",
    "    seasons: int | list[int] | bool | None = None,\n",
    ") -> pl.DataFrame\n",
    "```"
   ]
  },
  {
   "cell_type": "markdown",
   "id": "9ea0324a-637a-40eb-9ce8-e41f7692bf36",
   "metadata": {},
   "source": [
    "## Play-By-Play NFL Statistics"
   ]
  },
  {
   "cell_type": "markdown",
   "id": "b7b313e7-5d5e-4d77-880a-64d709682b7a",
   "metadata": {},
   "source": [
    "### Load NFL play-by-play data\n",
    "\n",
    "```python\n",
    "load_pbp(\n",
    "    seasons: int | list[int] | bool | None = None,\n",
    ") -> pl.DataFrame\n",
    "```"
   ]
  },
  {
   "cell_type": "markdown",
   "id": "c44a2289-6d80-432c-89f8-8f1c60660241",
   "metadata": {},
   "source": [
    "### Load FTN Manual Play Charting Data\n",
    "\n",
    "```python\n",
    "load_ftn_charting(\n",
    "    seasons: int | list[int] | bool | None = None,\n",
    ") -> pl.DataFrame\n",
    "```\n",
    "\n",
    "**Note**: Data available since 2022"
   ]
  },
  {
   "cell_type": "markdown",
   "id": "4b06b00f-5f3e-488d-a276-b1f57dea0783",
   "metadata": {},
   "source": [
    "## Team NFL Stats"
   ]
  },
  {
   "cell_type": "markdown",
   "id": "a2b4e003-90f5-40b0-ba80-5339a8508e5d",
   "metadata": {},
   "source": [
    "## Fantasy-Related Information"
   ]
  },
  {
   "cell_type": "markdown",
   "id": "579047f5-c13e-4233-8d1b-be66b1b240c3",
   "metadata": {
    "jp-MarkdownHeadingCollapsed": true
   },
   "source": [
    "### Load Fantasy Football Player IDs\n",
    "\n",
    "```python\n",
    "load_ff_playerids() -> pl.DataFrame\n",
    "```"
   ]
  },
  {
   "cell_type": "code",
   "execution_count": null,
   "id": "59166522-6af0-4aeb-be44-34f2c5f9a6e9",
   "metadata": {},
   "outputs": [],
   "source": [
    "# Loads fantasy football player IDs from DynastyProcess.com database\n",
    "ff_playerids = nfl.load_ff_playerids()\n",
    "ff_playerids.sample(15)"
   ]
  },
  {
   "cell_type": "markdown",
   "id": "7d221973-13c6-4916-bc32-6f29e7a46326",
   "metadata": {},
   "source": [
    "### Load fantasy football rankings and projections\n",
    "\n",
    "```python\n",
    "load_ff_rankings(\n",
    "    type: Literal[\"draft\", \"week\", \"all\"] = \"draft\",\n",
    ") -> pl.DataFrame\n",
    "```\n",
    "\n",
    "**Paremters**:\n",
    "\n",
    "| Name | Type | Description | Default |\n",
    "|:--|:--|:--|:--|\n",
    "| type | Literal['draft', 'week', 'all'] | Type of rankings to load: - \"draft\": Draft rankings/projections - \"week\": Weekly rankings/projections - \"all\": All historical rankings/projections | 'draft' |\n",
    "\n",
    "**Returns**:\n",
    "\n",
    "| Type | Description |\n",
    "|:--|:--|\n",
    "| DataFrame | Polars DataFrame with fantasy football rankings data. |\n",
    "\n",
    "**See also**: https://nflreadr.nflverse.com/reference/load_ff_rankings.html\n"
   ]
  },
  {
   "cell_type": "code",
   "execution_count": null,
   "id": "59dd831f-5354-40fe-bedd-153f8795548f",
   "metadata": {},
   "outputs": [],
   "source": [
    "# Load the latest fantasy football rankings and projections\n",
    "ff_rankings = nfl.load_ff_rankings(\"week\")\n",
    "ff_rankings.sample(10)"
   ]
  },
  {
   "cell_type": "code",
   "execution_count": null,
   "id": "7c0fee3e-58c8-438d-ada9-21b4725908a3",
   "metadata": {},
   "outputs": [],
   "source": [
    "# Load the preseason fantasy football rankings and projections\n",
    "ff_rankings = nfl.load_ff_rankings(\"draft\")\n",
    "ff_rankings.sample(10)"
   ]
  },
  {
   "cell_type": "code",
   "execution_count": null,
   "id": "22768e55-7195-435d-810b-e3b198ac0275",
   "metadata": {
    "scrolled": true
   },
   "outputs": [],
   "source": [
    "# Load the full historical archive of fantasy football rankings and projections\n",
    "ff_rankings = nfl.load_ff_rankings(\"all\")\n",
    "ff_rankings.sample(10)"
   ]
  },
  {
   "cell_type": "markdown",
   "id": "cced7b94-6304-408c-b2ac-da60911001b6",
   "metadata": {},
   "source": [
    "### Load FF Opportunities\n",
    "\n",
    "```python\n",
    "load_ff_opportunity(\n",
    "    seasons: int | list[int] | None = None,\n",
    "    stat_type: Literal[\n",
    "        \"weekly\", \"pbp_pass\", \"pbp_rush\"\n",
    "    ] = \"weekly\",\n",
    "    model_version: Literal[\"latest\", \"v1.0.0\"] = \"latest\",\n",
    ") -> pl.DataFrame\n",
    "```\n",
    "\n",
    "This function loads opportunity and target share data for fantasy football analysis from the ffverse/ffopportunity repository."
   ]
  },
  {
   "cell_type": "code",
   "execution_count": 91,
   "id": "0344a78d-7948-41ef-be16-2177407d0b49",
   "metadata": {},
   "outputs": [],
   "source": [
    "# Load weekly fantasy football opportunity data for current season\n",
    "ff_opportunity_current_wkly = nfl.load_ff_opportunity()"
   ]
  },
  {
   "cell_type": "code",
   "execution_count": 93,
   "id": "61990dae-5f78-43aa-a82e-73e75c1a59b4",
   "metadata": {},
   "outputs": [],
   "source": [
    "# Load historical fantasy football opportunity data\n",
    "\n",
    "opportunity_data_seasons = [\n",
    "    2024,\n",
    "    2023,\n",
    "    2022,\n",
    "    2021,\n",
    "    2020\n",
    "]\n",
    "\n",
    "ff_opportunity_2020_to_2024 = nfl.load_ff_opportunity(opportunity_data_seasons)"
   ]
  },
  {
   "cell_type": "markdown",
   "id": "eb7ea74b-f65d-417c-9e3e-d5b60d297d15",
   "metadata": {},
   "source": [
    "## Other Information"
   ]
  },
  {
   "cell_type": "markdown",
   "id": "8405c74f-826b-417c-9fb3-747d0f8e7471",
   "metadata": {},
   "source": [
    "### Load Player Information\n",
    "\n",
    "```python\n",
    "load_players() -> pl.DataFrame\n",
    "```\n",
    "\n",
    "This is a comprehensive source of player information including basic details, draft information, positions, and ID mappings across multiple data sources (GSIS, PFR, PFF, OTC, ESB, ESPN)."
   ]
  },
  {
   "cell_type": "code",
   "execution_count": 97,
   "id": "9ecc72e0-f170-4a2b-b00c-c8757d5aa279",
   "metadata": {},
   "outputs": [
    {
     "data": {
      "text/html": [
       "<div><style>\n",
       ".dataframe > thead > tr,\n",
       ".dataframe > tbody > tr {\n",
       "  text-align: right;\n",
       "  white-space: pre-wrap;\n",
       "}\n",
       "</style>\n",
       "<small>shape: (15, 39)</small><table border=\"1\" class=\"dataframe\"><thead><tr><th>gsis_id</th><th>display_name</th><th>common_first_name</th><th>first_name</th><th>last_name</th><th>short_name</th><th>football_name</th><th>suffix</th><th>esb_id</th><th>nfl_id</th><th>pfr_id</th><th>pff_id</th><th>otc_id</th><th>espn_id</th><th>smart_id</th><th>birth_date</th><th>position_group</th><th>position</th><th>ngs_position_group</th><th>ngs_position</th><th>height</th><th>weight</th><th>headshot</th><th>college_name</th><th>college_conference</th><th>jersey_number</th><th>rookie_season</th><th>last_season</th><th>latest_team</th><th>status</th><th>ngs_status</th><th>ngs_status_short_description</th><th>years_of_experience</th><th>pff_position</th><th>pff_status</th><th>draft_year</th><th>draft_round</th><th>draft_pick</th><th>draft_team</th></tr><tr><td>str</td><td>str</td><td>str</td><td>str</td><td>str</td><td>str</td><td>str</td><td>str</td><td>str</td><td>str</td><td>str</td><td>str</td><td>str</td><td>str</td><td>str</td><td>str</td><td>str</td><td>str</td><td>str</td><td>str</td><td>i32</td><td>i32</td><td>str</td><td>str</td><td>str</td><td>str</td><td>i32</td><td>i32</td><td>str</td><td>str</td><td>str</td><td>str</td><td>i32</td><td>str</td><td>str</td><td>i32</td><td>i32</td><td>i32</td><td>str</td></tr></thead><tbody><tr><td>&quot;00-0034807&quot;</td><td>&quot;Ogbo Okoronkwo&quot;</td><td>&quot;Ogbo&quot;</td><td>&quot;Ogbonnia&quot;</td><td>&quot;Okoronkwo&quot;</td><td>&quot;O.Okoronkwo&quot;</td><td>&quot;Ogbonnia&quot;</td><td>null</td><td>&quot;OKO385924&quot;</td><td>&quot;46229&quot;</td><td>&quot;OkorOg00&quot;</td><td>&quot;50130&quot;</td><td>&quot;7045&quot;</td><td>&quot;3052667&quot;</td><td>&quot;32004f4b-4f38-5924-fae5-ebda75…</td><td>&quot;1995-04-24&quot;</td><td>&quot;DL&quot;</td><td>&quot;DE&quot;</td><td>&quot;DL&quot;</td><td>&quot;EDGE&quot;</td><td>74</td><td>253</td><td>&quot;https://static.www.nfl.com/ima…</td><td>&quot;Oklahoma&quot;</td><td>&quot;Big Twelve Conference&quot;</td><td>&quot;45&quot;</td><td>2018</td><td>2025</td><td>&quot;PHI&quot;</td><td>&quot;ACT&quot;</td><td>&quot;ACT&quot;</td><td>&quot;Active&quot;</td><td>8</td><td>&quot;ED&quot;</td><td>&quot;A&quot;</td><td>2018</td><td>5</td><td>160</td><td>&quot;LA&quot;</td></tr><tr><td>&quot;00-0020504&quot;</td><td>&quot;Derrick Burgess&quot;</td><td>&quot;Derrick&quot;</td><td>&quot;Derrick&quot;</td><td>&quot;Burgess&quot;</td><td>null</td><td>null</td><td>null</td><td>&quot;BUR072504&quot;</td><td>&quot;26281&quot;</td><td>&quot;BurgDe99&quot;</td><td>&quot;830&quot;</td><td>null</td><td>&quot;2611&quot;</td><td>&quot;32004255-5207-2504-d249-927c11…</td><td>&quot;1978-08-12&quot;</td><td>&quot;DL&quot;</td><td>&quot;DE&quot;</td><td>null</td><td>null</td><td>74</td><td>255</td><td>&quot;https://static.www.nfl.com/ima…</td><td>&quot;Mississippi&quot;</td><td>null</td><td>&quot;73&quot;</td><td>2001</td><td>2010</td><td>&quot;PHI&quot;</td><td>&quot;CUT&quot;</td><td>null</td><td>null</td><td>10</td><td>null</td><td>null</td><td>2001</td><td>3</td><td>63</td><td>&quot;PHI&quot;</td></tr><tr><td>&quot;00-0039704&quot;</td><td>&quot;Matthew Cindric&quot;</td><td>&quot;Matthew&quot;</td><td>&quot;Matthew&quot;</td><td>&quot;Cindric&quot;</td><td>&quot;M.Cindric&quot;</td><td>&quot;Matthew&quot;</td><td>null</td><td>&quot;CIN415291&quot;</td><td>&quot;57867&quot;</td><td>null</td><td>&quot;81604&quot;</td><td>&quot;12120&quot;</td><td>&quot;4372738&quot;</td><td>&quot;32004349-4e41-5291-9802-eeb610…</td><td>&quot;1999-08-02&quot;</td><td>&quot;OL&quot;</td><td>&quot;C&quot;</td><td>&quot;OL&quot;</td><td>&quot;G&quot;</td><td>76</td><td>295</td><td>null</td><td>&quot;California&quot;</td><td>&quot;Pacific Twelve Conference&quot;</td><td>null</td><td>2024</td><td>2024</td><td>&quot;NYJ&quot;</td><td>&quot;DEV&quot;</td><td>&quot;CUT&quot;</td><td>&quot;Waivers/No Rec.&quot;</td><td>0</td><td>null</td><td>null</td><td>null</td><td>null</td><td>null</td><td>null</td></tr><tr><td>&quot;00-0031427&quot;</td><td>&quot;Todd Davis&quot;</td><td>&quot;Todd&quot;</td><td>&quot;Todd&quot;</td><td>&quot;Davis&quot;</td><td>&quot;T.Davis&quot;</td><td>&quot;Todd&quot;</td><td>null</td><td>&quot;DAV768914&quot;</td><td>&quot;42138&quot;</td><td>&quot;DaviTo01&quot;</td><td>&quot;9007&quot;</td><td>&quot;3680&quot;</td><td>&quot;17497&quot;</td><td>&quot;32004441-5676-8914-3a6a-2ae692…</td><td>&quot;1992-05-17&quot;</td><td>&quot;LB&quot;</td><td>&quot;ILB&quot;</td><td>null</td><td>null</td><td>73</td><td>230</td><td>&quot;https://static.www.nfl.com/ima…</td><td>&quot;Sacramento State&quot;</td><td>&quot;Big Sky Conference&quot;</td><td>&quot;40&quot;</td><td>2014</td><td>2020</td><td>&quot;MIN&quot;</td><td>&quot;ACT&quot;</td><td>&quot;RET&quot;</td><td>&quot;R/Retired&quot;</td><td>7</td><td>&quot;LB&quot;</td><td>null</td><td>null</td><td>null</td><td>null</td><td>null</td></tr><tr><td>&quot;00-0031728&quot;</td><td>&quot;Zach Vigil&quot;</td><td>&quot;Zach&quot;</td><td>&quot;Zachary&quot;</td><td>&quot;Vigil&quot;</td><td>&quot;Z.Vigil&quot;</td><td>&quot;Zach&quot;</td><td>null</td><td>&quot;VIG259556&quot;</td><td>&quot;42759&quot;</td><td>&quot;VigiZa00&quot;</td><td>&quot;9824&quot;</td><td>&quot;4179&quot;</td><td>&quot;2517389&quot;</td><td>&quot;32005649-4725-9556-a89e-c5b26b…</td><td>&quot;1991-03-28&quot;</td><td>&quot;LB&quot;</td><td>&quot;LB&quot;</td><td>&quot;LB&quot;</td><td>&quot;MLB&quot;</td><td>74</td><td>238</td><td>&quot;https://static.www.nfl.com/ima…</td><td>&quot;Utah State&quot;</td><td>&quot;Mountain West Conference&quot;</td><td>&quot;56&quot;</td><td>2015</td><td>2018</td><td>&quot;WAS&quot;</td><td>&quot;ACT&quot;</td><td>&quot;ACT&quot;</td><td>&quot;Active&quot;</td><td>4</td><td>&quot;LB&quot;</td><td>null</td><td>null</td><td>null</td><td>null</td><td>null</td></tr><tr><td>&hellip;</td><td>&hellip;</td><td>&hellip;</td><td>&hellip;</td><td>&hellip;</td><td>&hellip;</td><td>&hellip;</td><td>&hellip;</td><td>&hellip;</td><td>&hellip;</td><td>&hellip;</td><td>&hellip;</td><td>&hellip;</td><td>&hellip;</td><td>&hellip;</td><td>&hellip;</td><td>&hellip;</td><td>&hellip;</td><td>&hellip;</td><td>&hellip;</td><td>&hellip;</td><td>&hellip;</td><td>&hellip;</td><td>&hellip;</td><td>&hellip;</td><td>&hellip;</td><td>&hellip;</td><td>&hellip;</td><td>&hellip;</td><td>&hellip;</td><td>&hellip;</td><td>&hellip;</td><td>&hellip;</td><td>&hellip;</td><td>&hellip;</td><td>&hellip;</td><td>&hellip;</td><td>&hellip;</td><td>&hellip;</td></tr><tr><td>&quot;00-0014869&quot;</td><td>&quot;Ricky Siglar&quot;</td><td>&quot;Ricky&quot;</td><td>&quot;Ricky&quot;</td><td>&quot;Siglar&quot;</td><td>null</td><td>null</td><td>null</td><td>&quot;SIG332232&quot;</td><td>null</td><td>&quot;SiglRi20&quot;</td><td>null</td><td>null</td><td>&quot;7404&quot;</td><td>&quot;32005349-4733-2232-4a3a-b912ff…</td><td>&quot;1966-06-14&quot;</td><td>&quot;OL&quot;</td><td>&quot;OT&quot;</td><td>null</td><td>null</td><td>79</td><td>308</td><td>&quot;https://static.www.nfl.com/ima…</td><td>&quot;San Jose State; Arizona Wester…</td><td>null</td><td>&quot;72&quot;</td><td>1990</td><td>1998</td><td>&quot;KC&quot;</td><td>&quot;ACT&quot;</td><td>null</td><td>null</td><td>7</td><td>null</td><td>null</td><td>null</td><td>null</td><td>null</td><td>null</td></tr><tr><td>&quot;00-0027891&quot;</td><td>&quot;Golden Tate&quot;</td><td>&quot;Golden&quot;</td><td>&quot;Golden&quot;</td><td>&quot;Tate&quot;</td><td>&quot;G.Tate&quot;</td><td>&quot;Golden&quot;</td><td>null</td><td>&quot;TAT245022&quot;</td><td>&quot;35499&quot;</td><td>&quot;TateGo00&quot;</td><td>&quot;5585&quot;</td><td>&quot;1541&quot;</td><td>&quot;13217&quot;</td><td>&quot;32005441-5424-5022-18f3-b9b543…</td><td>&quot;1988-08-02&quot;</td><td>&quot;WR&quot;</td><td>&quot;WR&quot;</td><td>null</td><td>null</td><td>71</td><td>191</td><td>&quot;https://static.www.nfl.com/ima…</td><td>&quot;Notre Dame&quot;</td><td>&quot;Independent&quot;</td><td>&quot;0&quot;</td><td>2010</td><td>2021</td><td>&quot;TEN&quot;</td><td>&quot;CUT&quot;</td><td>&quot;CUT&quot;</td><td>&quot;PS; Vet&quot;</td><td>12</td><td>&quot;WR&quot;</td><td>null</td><td>2010</td><td>2</td><td>60</td><td>&quot;SEA&quot;</td></tr><tr><td>&quot;00-0015243&quot;</td><td>&quot;Lance Smith&quot;</td><td>&quot;Lance&quot;</td><td>&quot;Lance&quot;</td><td>&quot;Smith&quot;</td><td>null</td><td>null</td><td>null</td><td>&quot;SMI464000&quot;</td><td>null</td><td>&quot;SmitLa20&quot;</td><td>null</td><td>null</td><td>&quot;6901&quot;</td><td>&quot;3200534d-4946-4000-7d43-9350af…</td><td>&quot;1963-01-01&quot;</td><td>&quot;OL&quot;</td><td>&quot;G&quot;</td><td>null</td><td>null</td><td>75</td><td>282</td><td>&quot;https://static.www.nfl.com/ima…</td><td>&quot;LSU&quot;</td><td>null</td><td>&quot;61&quot;</td><td>1985</td><td>1996</td><td>&quot;NYG&quot;</td><td>&quot;ACT&quot;</td><td>null</td><td>null</td><td>12</td><td>null</td><td>null</td><td>1985</td><td>3</td><td>72</td><td>&quot;LA&quot;</td></tr><tr><td>&quot;00-0028446&quot;</td><td>&quot;Josh Portis&quot;</td><td>&quot;Josh&quot;</td><td>&quot;Joshua&quot;</td><td>&quot;Portis&quot;</td><td>null</td><td>null</td><td>null</td><td>&quot;POR800817&quot;</td><td>null</td><td>&quot;PortJo01&quot;</td><td>null</td><td>null</td><td>&quot;14299&quot;</td><td>&quot;3200504f-5280-0817-426a-fc01ef…</td><td>&quot;1987-07-14&quot;</td><td>&quot;QB&quot;</td><td>&quot;QB&quot;</td><td>null</td><td>null</td><td>75</td><td>211</td><td>&quot;https://static.www.nfl.com/ima…</td><td>&quot;California (PA)&quot;</td><td>null</td><td>&quot;2&quot;</td><td>2011</td><td>2012</td><td>&quot;SEA&quot;</td><td>&quot;CUT&quot;</td><td>null</td><td>null</td><td>2</td><td>null</td><td>null</td><td>null</td><td>null</td><td>null</td><td>null</td></tr><tr><td>&quot;00-0035702&quot;</td><td>&quot;Dalton Risner&quot;</td><td>&quot;Dalton&quot;</td><td>&quot;Dalton&quot;</td><td>&quot;Risner&quot;</td><td>&quot;D.Risner&quot;</td><td>&quot;Dalton&quot;</td><td>null</td><td>&quot;RIS447993&quot;</td><td>&quot;47824&quot;</td><td>&quot;RisnDa00&quot;</td><td>&quot;47008&quot;</td><td>&quot;7832&quot;</td><td>&quot;3125082&quot;</td><td>&quot;32005249-5344-7993-8f0d-2bff7b…</td><td>&quot;1995-07-13&quot;</td><td>&quot;OL&quot;</td><td>&quot;G&quot;</td><td>&quot;OL&quot;</td><td>&quot;G&quot;</td><td>77</td><td>312</td><td>&quot;https://static.www.nfl.com/ima…</td><td>&quot;Kansas State&quot;</td><td>&quot;Big Twelve Conference&quot;</td><td>&quot;66&quot;</td><td>2019</td><td>2025</td><td>&quot;CIN&quot;</td><td>&quot;ACT&quot;</td><td>&quot;ACT&quot;</td><td>&quot;Active&quot;</td><td>7</td><td>&quot;G&quot;</td><td>&quot;A&quot;</td><td>2019</td><td>2</td><td>41</td><td>&quot;DEN&quot;</td></tr></tbody></table></div>"
      ],
      "text/plain": [
       "shape: (15, 39)\n",
       "┌───────────┬───────────┬───────────┬───────────┬───┬───────────┬───────────┬───────────┬──────────┐\n",
       "│ gsis_id   ┆ display_n ┆ common_fi ┆ first_nam ┆ … ┆ draft_yea ┆ draft_rou ┆ draft_pic ┆ draft_te │\n",
       "│ ---       ┆ ame       ┆ rst_name  ┆ e         ┆   ┆ r         ┆ nd        ┆ k         ┆ am       │\n",
       "│ str       ┆ ---       ┆ ---       ┆ ---       ┆   ┆ ---       ┆ ---       ┆ ---       ┆ ---      │\n",
       "│           ┆ str       ┆ str       ┆ str       ┆   ┆ i32       ┆ i32       ┆ i32       ┆ str      │\n",
       "╞═══════════╪═══════════╪═══════════╪═══════════╪═══╪═══════════╪═══════════╪═══════════╪══════════╡\n",
       "│ 00-003480 ┆ Ogbo      ┆ Ogbo      ┆ Ogbonnia  ┆ … ┆ 2018      ┆ 5         ┆ 160       ┆ LA       │\n",
       "│ 7         ┆ Okoronkwo ┆           ┆           ┆   ┆           ┆           ┆           ┆          │\n",
       "│ 00-002050 ┆ Derrick   ┆ Derrick   ┆ Derrick   ┆ … ┆ 2001      ┆ 3         ┆ 63        ┆ PHI      │\n",
       "│ 4         ┆ Burgess   ┆           ┆           ┆   ┆           ┆           ┆           ┆          │\n",
       "│ 00-003970 ┆ Matthew   ┆ Matthew   ┆ Matthew   ┆ … ┆ null      ┆ null      ┆ null      ┆ null     │\n",
       "│ 4         ┆ Cindric   ┆           ┆           ┆   ┆           ┆           ┆           ┆          │\n",
       "│ 00-003142 ┆ Todd      ┆ Todd      ┆ Todd      ┆ … ┆ null      ┆ null      ┆ null      ┆ null     │\n",
       "│ 7         ┆ Davis     ┆           ┆           ┆   ┆           ┆           ┆           ┆          │\n",
       "│ 00-003172 ┆ Zach      ┆ Zach      ┆ Zachary   ┆ … ┆ null      ┆ null      ┆ null      ┆ null     │\n",
       "│ 8         ┆ Vigil     ┆           ┆           ┆   ┆           ┆           ┆           ┆          │\n",
       "│ …         ┆ …         ┆ …         ┆ …         ┆ … ┆ …         ┆ …         ┆ …         ┆ …        │\n",
       "│ 00-001486 ┆ Ricky     ┆ Ricky     ┆ Ricky     ┆ … ┆ null      ┆ null      ┆ null      ┆ null     │\n",
       "│ 9         ┆ Siglar    ┆           ┆           ┆   ┆           ┆           ┆           ┆          │\n",
       "│ 00-002789 ┆ Golden    ┆ Golden    ┆ Golden    ┆ … ┆ 2010      ┆ 2         ┆ 60        ┆ SEA      │\n",
       "│ 1         ┆ Tate      ┆           ┆           ┆   ┆           ┆           ┆           ┆          │\n",
       "│ 00-001524 ┆ Lance     ┆ Lance     ┆ Lance     ┆ … ┆ 1985      ┆ 3         ┆ 72        ┆ LA       │\n",
       "│ 3         ┆ Smith     ┆           ┆           ┆   ┆           ┆           ┆           ┆          │\n",
       "│ 00-002844 ┆ Josh      ┆ Josh      ┆ Joshua    ┆ … ┆ null      ┆ null      ┆ null      ┆ null     │\n",
       "│ 6         ┆ Portis    ┆           ┆           ┆   ┆           ┆           ┆           ┆          │\n",
       "│ 00-003570 ┆ Dalton    ┆ Dalton    ┆ Dalton    ┆ … ┆ 2019      ┆ 2         ┆ 41        ┆ DEN      │\n",
       "│ 2         ┆ Risner    ┆           ┆           ┆   ┆           ┆           ┆           ┆          │\n",
       "└───────────┴───────────┴───────────┴───────────┴───┴───────────┴───────────┴───────────┴──────────┘"
      ]
     },
     "execution_count": 97,
     "metadata": {},
     "output_type": "execute_result"
    }
   ],
   "source": [
    "# Load player information\n",
    "\n",
    "player_data = nfl.load_players()\n",
    "player_data.describe()\n",
    "player_data.sample(15)"
   ]
  },
  {
   "cell_type": "markdown",
   "id": "7a7b03a6-3703-4999-a440-0c25a1dccbca",
   "metadata": {},
   "source": [
    "### Load Rosters"
   ]
  },
  {
   "cell_type": "code",
   "execution_count": null,
   "id": "700a3218-c687-4195-b655-b520abedded2",
   "metadata": {},
   "outputs": [],
   "source": []
  },
  {
   "cell_type": "markdown",
   "id": "21192948-d8d9-49d6-9e93-3471dda253e9",
   "metadata": {},
   "source": [
    "### Load NFL Combine Data\n",
    "\n",
    "```python\n",
    "load_combine(\n",
    "    seasons: int | list[int] | bool | None = True,\n",
    ") -> pl.DataFrame\n",
    "```"
   ]
  },
  {
   "cell_type": "markdown",
   "id": "cb1a13ca-e428-4775-86cf-beed6ab2d29a",
   "metadata": {},
   "source": [
    "### Load NFL Depth Charts\n",
    "\n",
    "```python\n",
    "load_depth_charts(\n",
    "    seasons: int | list[int] | bool | None = None,\n",
    ") -> pl.DataFrame\n",
    "```"
   ]
  }
 ],
 "metadata": {
  "kernelspec": {
   "display_name": "Python 3 (ipykernel)",
   "language": "python",
   "name": "python3"
  },
  "language_info": {
   "codemirror_mode": {
    "name": "ipython",
    "version": 3
   },
   "file_extension": ".py",
   "mimetype": "text/x-python",
   "name": "python",
   "nbconvert_exporter": "python",
   "pygments_lexer": "ipython3",
   "version": "3.13.6"
  }
 },
 "nbformat": 4,
 "nbformat_minor": 5
}
