{
 "cells": [
  {
   "cell_type": "markdown",
   "metadata": {},
   "source": [
    "# FASA Week 9 Strategy - Due Wednesday 11:59 PM EST\n",
    "\n",
    "Analysis notebook for FASA bid planning using `mart_fasa_targets` and `mart_my_roster_droppable`."
   ]
  },
  {
   "cell_type": "markdown",
   "metadata": {},
   "source": [
    "---\n",
    "\n",
    "## ✅ Data Quality: RESOLVED\n",
    "\n",
    "**Status:** Pipeline functional with real opportunity metrics\n",
    "\n",
    "**What Was Fixed:**\n",
    "- ✅ Created `scripts/ingest/load_nflverse.py` for consistent data loading\n",
    "- ✅ Calculated opportunity shares from ff_opportunity attempt metrics  \n",
    "  - target_share = rec_attempt / rec_attempt_team\n",
    "  - rush_share = rush_attempt / rush_attempt_team\n",
    "- ✅ Fixed value_score formula with proper normalization (0-100 scale)\n",
    "- ✅ Loaded weeks 1-8 of 2025 data (snap_counts + ff_opportunity)\n",
    "\n",
    "**Current Metrics:**\n",
    "- 209 FA targets with opportunity data\n",
    "- Value scores: 31-74 (positive, normalized range)\n",
    "- Top RB: Zonovan Knight (18.4% opportunity share, 74 value_score)\n",
    "\n",
    "**Next Step:** Task 2.1 - Historical backfill for model training\n",
    "\n",
    "---"
   ]
  },
  {
   "cell_type": "code",
   "execution_count": null,
   "metadata": {
    "jupyter": {
     "source_hidden": true
    }
   },
   "outputs": [],
   "source": [
    "# Imports\n",
    "from pathlib import Path\n",
    "\n",
    "import duckdb\n",
    "import matplotlib.pyplot as plt\n",
    "import pandas as pd\n",
    "import seaborn as sns\n",
    "\n",
    "# Set plotting style\n",
    "sns.set_theme(style=\"whitegrid\")\n",
    "plt.rcParams['figure.figsize'] = (12, 6)"
   ]
  },
  {
   "cell_type": "code",
   "execution_count": null,
   "metadata": {
    "jupyter": {
     "source_hidden": true
    }
   },
   "outputs": [],
   "source": [
    "# Connect to data sources\n",
    "\n",
    "# Determine repo root (parent of notebooks dir)\n",
    "repo_root = Path.cwd().parent if Path.cwd().name == 'notebooks' else Path.cwd()\n",
    "duckdb_path = repo_root / 'dbt' / 'ff_analytics' / 'target' / 'dev.duckdb'\n",
    "data_root = repo_root / 'data' / 'raw'\n",
    "\n",
    "print(f\"Repo root: {repo_root}\")\n",
    "print(f\"DuckDB: {duckdb_path}\")\n",
    "print(f\"Data root: {data_root}\")\n",
    "\n",
    "# Load FASA targets directly from Parquet (external table)\n",
    "fasa_parquet_path = data_root / 'marts' / 'mart_fasa_targets' / 'dt=2025-10-28' / 'data.parquet'\n",
    "if fasa_parquet_path.exists():\n",
    "    fasa_targets = pd.read_parquet(fasa_parquet_path)\n",
    "    print(f\"✅ Loaded {len(fasa_targets)} FASA targets from Parquet\")\n",
    "else:\n",
    "    print(f\"❌ FASA targets not found at: {fasa_parquet_path}\")\n",
    "    fasa_targets = pd.DataFrame()\n",
    "\n",
    "# Load my roster droppable (also external table)\n",
    "droppable_parquet_path = data_root / 'marts' / 'mart_my_roster_droppable' / 'dt=2025-10-28' / 'data.parquet'\n",
    "if droppable_parquet_path.exists():\n",
    "    my_roster_droppable = pd.read_parquet(droppable_parquet_path)\n",
    "    print(f\"✅ Loaded {len(my_roster_droppable)} roster players from Parquet\")\n",
    "else:\n",
    "    # Try yesterday's snapshot\n",
    "    droppable_parquet_path = data_root / 'marts' / 'mart_my_roster_droppable' / 'dt=2025-10-27' / 'data.parquet'\n",
    "    if droppable_parquet_path.exists():\n",
    "        my_roster_droppable = pd.read_parquet(droppable_parquet_path)\n",
    "        print(f\"✅ Loaded {len(my_roster_droppable)} roster players (using yesterday's snapshot)\")\n",
    "    else:\n",
    "        print(\"❌ Roster droppable not found\")\n",
    "        my_roster_droppable = pd.DataFrame()\n",
    "\n",
    "# Load cap situation from DuckDB (regular table, not external)\n",
    "try:\n",
    "    conn = duckdb.connect(str(duckdb_path), read_only=True)\n",
    "    cap_situation = conn.execute(\"\"\"\n",
    "        SELECT *\n",
    "        FROM main.mart_cap_situation\n",
    "        WHERE owner_name = 'Jason'\n",
    "    \"\"\").df()\n",
    "    conn.close()\n",
    "    print(f\"✅ Loaded {len(cap_situation)} years of cap data from DuckDB\")\n",
    "except Exception as e:\n",
    "    print(f\"⚠️  Cap situation not available: {e}\")\n",
    "    # Use hardcoded values from Task 1.1 sprint plan\n",
    "    cap_situation = pd.DataFrame([\n",
    "        {'season': 2025, 'cap_space_available': 80},\n",
    "        {'season': 2026, 'cap_space_available': 80},\n",
    "        {'season': 2027, 'cap_space_available': 158},\n",
    "        {'season': 2028, 'cap_space_available': 183},\n",
    "        {'season': 2029, 'cap_space_available': 250}\n",
    "    ])\n",
    "    print(\"Using hardcoded cap values from Task 1.1\")\n",
    "\n",
    "print(f\"\\n{'='*60}\")\n",
    "print(\"DATA LOAD SUMMARY\")\n",
    "print(f\"{'='*60}\")\n",
    "print(f\"FASA targets: {len(fasa_targets)}\")\n",
    "print(f\"Roster players: {len(my_roster_droppable)}\")\n",
    "print(f\"Cap situation: {len(cap_situation)} years\")"
   ]
  },
  {
   "cell_type": "markdown",
   "metadata": {},
   "source": [
    "## 1. My Cap Situation"
   ]
  },
  {
   "cell_type": "code",
   "execution_count": null,
   "metadata": {
    "jupyter": {
     "source_hidden": true
    }
   },
   "outputs": [],
   "source": [
    "# Display cap situation\n",
    "print(\"Current Cap Space:\")\n",
    "cap_col = 'cap_space_available' if 'cap_space_available' in cap_situation.columns else 'cap_space'\n",
    "print(cap_situation[['season', cap_col]].to_string(index=False))\n",
    "\n",
    "# Get current year cap\n",
    "cap_2025 = cap_situation[cap_situation['season'] == 2025]\n",
    "if len(cap_2025) > 0:\n",
    "    current_cap = cap_2025[cap_col].iloc[0]\n",
    "else:\n",
    "    current_cap = 80  # Fallback\n",
    "    print(\"\\nWarning: No 2025 cap data found, using hardcoded value\")\n",
    "\n",
    "print(f\"\\n2025 Available Cap: ${current_cap}\")"
   ]
  },
  {
   "cell_type": "code",
   "execution_count": null,
   "metadata": {
    "jupyter": {
     "source_hidden": true
    }
   },
   "outputs": [],
   "source": [
    "# Cap Space Calculator\n",
    "\n",
    "\n",
    "def calculate_cap_if_drop(player_name):\n",
    "    \"\"\"Calculate cap space if a player is dropped.\"\"\"\n",
    "    player = my_roster_droppable[my_roster_droppable['player_name'] == player_name]\n",
    "    \n",
    "    if len(player) == 0:\n",
    "        return {'error': f'Player {player_name} not found'}\n",
    "    \n",
    "    player = player.iloc[0]\n",
    "    cap_freed = player['cap_space_freed']\n",
    "    new_cap_space = current_cap + cap_freed\n",
    "    \n",
    "    return {\n",
    "        'player': player_name,\n",
    "        'current_cap': current_cap,\n",
    "        'cap_freed': cap_freed,\n",
    "        'dead_cap': player['dead_cap_if_cut_now'],\n",
    "        'new_cap_space': new_cap_space\n",
    "    }\n",
    "\n",
    "\n",
    "# Example usage\n",
    "if len(my_roster_droppable) > 0:\n",
    "    example_player = my_roster_droppable.iloc[0]['player_name']\n",
    "    print(f\"Example: Drop {example_player}\")\n",
    "    print(calculate_cap_if_drop(example_player))"
   ]
  },
  {
   "cell_type": "markdown",
   "metadata": {},
   "source": [
    "## 2. Top FASA Targets by Position"
   ]
  },
  {
   "cell_type": "markdown",
   "metadata": {},
   "source": [
    "### 2.1 RB Targets (Priority #1)"
   ]
  },
  {
   "cell_type": "code",
   "execution_count": null,
   "metadata": {
    "jupyter": {
     "source_hidden": true
    }
   },
   "outputs": [],
   "source": [
    "# Top 10 RBs Available\n",
    "rb_targets = fasa_targets[fasa_targets['position'] == 'RB'].head(10)\n",
    "\n",
    "display_cols = [\n",
    "    'priority_rank_at_position',\n",
    "    'player_name',\n",
    "    'nfl_team',\n",
    "    'fantasy_ppg_last_4',\n",
    "    'projected_ppg_ros',\n",
    "    'opportunity_share_l4',  # Changed from snap_share_l4\n",
    "    'value_score',\n",
    "    'suggested_bid_1yr',\n",
    "    'suggested_bid_2yr',\n",
    "    'bid_confidence'\n",
    "]\n",
    "\n",
    "print(\"Top 10 RB Targets:\")\n",
    "display(rb_targets[display_cols])"
   ]
  },
  {
   "cell_type": "code",
   "execution_count": null,
   "metadata": {
    "jupyter": {
     "source_hidden": true
    }
   },
   "outputs": [],
   "source": [
    "# RB Value Matrix Visualization\n",
    "if len(rb_targets) > 0:\n",
    "    plt.figure(figsize=(12, 8))\n",
    "    plt.scatter(rb_targets['suggested_bid_1yr'], rb_targets['projected_ppg_ros'], \n",
    "                s=100, alpha=0.6, c=rb_targets['value_score'], cmap='RdYlGn')\n",
    "    plt.colorbar(label='Value Score')\n",
    "    plt.xlabel('Suggested Bid ($)', fontsize=12)\n",
    "    plt.ylabel('Projected PPG ROS', fontsize=12)\n",
    "    plt.title('RB Value Matrix: Projected Performance vs Bid Cost', fontsize=14, fontweight='bold')\n",
    "    plt.grid(True, alpha=0.3)\n",
    "    \n",
    "    # Annotate players\n",
    "    for _, row in rb_targets.iterrows():\n",
    "        plt.annotate(row['player_name'], \n",
    "                    (row['suggested_bid_1yr'], row['projected_ppg_ros']),\n",
    "                    fontsize=9, alpha=0.8, \n",
    "                    xytext=(5, 5), textcoords='offset points')\n",
    "    plt.tight_layout()\n",
    "    plt.show()"
   ]
  },
  {
   "cell_type": "markdown",
   "metadata": {},
   "source": [
    "### 2.2 WR Targets (Priority #2)"
   ]
  },
  {
   "cell_type": "code",
   "execution_count": null,
   "metadata": {
    "jupyter": {
     "source_hidden": true
    }
   },
   "outputs": [],
   "source": [
    "# Top 15 WRs Available\n",
    "wr_targets = fasa_targets[fasa_targets['position'] == 'WR'].head(15)\n",
    "\n",
    "print(\"Top 15 WR Targets:\")\n",
    "display(wr_targets[display_cols])"
   ]
  },
  {
   "cell_type": "code",
   "execution_count": null,
   "metadata": {
    "jupyter": {
     "source_hidden": true
    }
   },
   "outputs": [],
   "source": [
    "# WR Value Matrix Visualization\n",
    "if len(wr_targets) > 0:\n",
    "    plt.figure(figsize=(12, 8))\n",
    "    plt.scatter(wr_targets['suggested_bid_1yr'], wr_targets['projected_ppg_ros'], \n",
    "                s=100, alpha=0.6, c=wr_targets['value_score'], cmap='RdYlGn')\n",
    "    plt.colorbar(label='Value Score')\n",
    "    plt.xlabel('Suggested Bid ($)', fontsize=12)\n",
    "    plt.ylabel('Projected PPG ROS', fontsize=12)\n",
    "    plt.title('WR Value Matrix: Projected Performance vs Bid Cost', fontsize=14, fontweight='bold')\n",
    "    plt.grid(True, alpha=0.3)\n",
    "    \n",
    "    # Annotate players\n",
    "    for _, row in wr_targets.iterrows():\n",
    "        plt.annotate(row['player_name'], \n",
    "                    (row['suggested_bid_1yr'], row['projected_ppg_ros']),\n",
    "                    fontsize=9, alpha=0.8,\n",
    "                    xytext=(5, 5), textcoords='offset points')\n",
    "    plt.tight_layout()\n",
    "    plt.show()"
   ]
  },
  {
   "cell_type": "markdown",
   "metadata": {},
   "source": [
    "### 2.3 TE Targets (Priority #3)"
   ]
  },
  {
   "cell_type": "code",
   "execution_count": null,
   "metadata": {
    "jupyter": {
     "source_hidden": true
    }
   },
   "outputs": [],
   "source": [
    "# Top 8 TEs Available\n",
    "te_targets = fasa_targets[fasa_targets['position'] == 'TE'].head(8)\n",
    "\n",
    "print(\"Top 8 TE Targets:\")\n",
    "display(te_targets[display_cols])"
   ]
  },
  {
   "cell_type": "code",
   "execution_count": null,
   "metadata": {
    "jupyter": {
     "source_hidden": true
    }
   },
   "outputs": [],
   "source": [
    "# TE Value Matrix Visualization\n",
    "if len(te_targets) > 0:\n",
    "    plt.figure(figsize=(12, 8))\n",
    "    plt.scatter(te_targets['suggested_bid_1yr'], te_targets['projected_ppg_ros'], \n",
    "                s=100, alpha=0.6, c=te_targets['value_score'], cmap='RdYlGn')\n",
    "    plt.colorbar(label='Value Score')\n",
    "    plt.xlabel('Suggested Bid ($)', fontsize=12)\n",
    "    plt.ylabel('Projected PPG ROS', fontsize=12)\n",
    "    plt.title('TE Value Matrix: Projected Performance vs Bid Cost', fontsize=14, fontweight='bold')\n",
    "    plt.grid(True, alpha=0.3)\n",
    "    \n",
    "    # Annotate players\n",
    "    for _, row in te_targets.iterrows():\n",
    "        plt.annotate(row['player_name'], \n",
    "                    (row['suggested_bid_1yr'], row['projected_ppg_ros']),\n",
    "                    fontsize=9, alpha=0.8,\n",
    "                    xytext=(5, 5), textcoords='offset points')\n",
    "    plt.tight_layout()\n",
    "    plt.show()"
   ]
  },
  {
   "cell_type": "markdown",
   "metadata": {},
   "source": [
    "## 3. Bidding Strategy Matrix"
   ]
  },
  {
   "cell_type": "code",
   "execution_count": null,
   "metadata": {
    "jupyter": {
     "source_hidden": true
    }
   },
   "outputs": [],
   "source": [
    "# RB Bidding Strategy\n",
    "print(\"RB STRATEGY (Position of Need):\\n\")\n",
    "\n",
    "if len(rb_targets) >= 3:\n",
    "    rb_strategy = []\n",
    "    for i, (_, player) in enumerate(rb_targets.head(3).iterrows(), 1):\n",
    "        rb_strategy.append({\n",
    "            'Tier': f'RB{i}',\n",
    "            'Player': player['player_name'],\n",
    "            'Team': player['nfl_team'],\n",
    "            'Proj PPG': f\"{player['projected_ppg_ros']:.1f}\",\n",
    "            'Bid (1yr)': f\"${player['suggested_bid_1yr']:.0f}\",\n",
    "            'Bid (2yr)': f\"${player['suggested_bid_2yr']:.0f}\" if not pd.isna(player['suggested_bid_2yr']) else \"N/A\",\n",
    "            'Confidence': player['bid_confidence'],\n",
    "            'Logic': f\"Value score: {player['value_score']:.0f}, Opp%: {player['opportunity_share_l4']*100:.1f}%\"\n",
    "        })\n",
    "    \n",
    "    rb_strategy_df = pd.DataFrame(rb_strategy)\n",
    "    display(rb_strategy_df)\n",
    "    \n",
    "    print(\"\\n⚠️  SEALED BID FORMAT - Submit all bids at once with priority:\")\n",
    "    print(\"\\nRECOMMENDED BIDS (Priority Order):\")\n",
    "    print(f\"  Priority 1: {rb_strategy_df.iloc[0]['Player']} - ${rb_targets.iloc[0]['suggested_bid_1yr']:.0f}/1yr\")\n",
    "    if len(rb_targets) > 1:\n",
    "        print(f\"  Priority 2: {rb_strategy_df.iloc[1]['Player']} - ${rb_targets.iloc[1]['suggested_bid_1yr']:.0f}/1yr\")\n",
    "    if len(rb_targets) > 2:\n",
    "        print(f\"  Priority 3: {rb_strategy_df.iloc[2]['Player']} - ${rb_targets.iloc[2]['suggested_bid_1yr']:.0f}/1yr\")\n",
    "    \n",
    "    print(\"\\nCONTINGENCY RULES:\")\n",
    "    print(\"  - If I win Priority 1, cancel Priority 2 & 3\")\n",
    "    print(\"  - If I lose Priority 1, proceed with Priority 2\")\n",
    "    print(\"  - Maximum: Acquire 1 RB this week\")"
   ]
  },
  {
   "cell_type": "code",
   "execution_count": null,
   "metadata": {
    "jupyter": {
     "source_hidden": true
    }
   },
   "outputs": [],
   "source": [
    "# WR Bidding Strategy\n",
    "print(\"\\nWR STRATEGY:\\n\")\n",
    "\n",
    "if len(wr_targets) >= 3:\n",
    "    wr_strategy = []\n",
    "    for i, (_, player) in enumerate(wr_targets.head(3).iterrows(), 1):\n",
    "        wr_strategy.append({\n",
    "            'Tier': f'WR{i}',\n",
    "            'Player': player['player_name'],\n",
    "            'Team': player['nfl_team'],\n",
    "            'Proj PPG': f\"{player['projected_ppg_ros']:.1f}\",\n",
    "            'Bid (1yr)': f\"${player['suggested_bid_1yr']:.0f}\",\n",
    "            'Bid (2yr)': f\"${player['suggested_bid_2yr']:.0f}\",\n",
    "            'Confidence': player['bid_confidence']\n",
    "        })\n",
    "    \n",
    "    wr_strategy_df = pd.DataFrame(wr_strategy)\n",
    "    display(wr_strategy_df)"
   ]
  },
  {
   "cell_type": "code",
   "execution_count": null,
   "metadata": {
    "jupyter": {
     "source_hidden": true
    }
   },
   "outputs": [],
   "source": [
    "# TE Bidding Strategy\n",
    "print(\"\\nTE STRATEGY:\\n\")\n",
    "\n",
    "if len(te_targets) >= 2:\n",
    "    te_strategy = []\n",
    "    for i, (_, player) in enumerate(te_targets.head(2).iterrows(), 1):\n",
    "        te_strategy.append({\n",
    "            'Tier': f'TE{i}',\n",
    "            'Player': player['player_name'],\n",
    "            'Team': player['nfl_team'],\n",
    "            'Proj PPG': f\"{player['projected_ppg_ros']:.1f}\",\n",
    "            'Bid (1yr)': f\"${player['suggested_bid_1yr']:.0f}\",\n",
    "            'Bid (2yr)': f\"${player['suggested_bid_2yr']:.0f}\",\n",
    "            'Confidence': player['bid_confidence']\n",
    "        })\n",
    "    \n",
    "    te_strategy_df = pd.DataFrame(te_strategy)\n",
    "    display(te_strategy_df)"
   ]
  },
  {
   "cell_type": "markdown",
   "metadata": {},
   "source": [
    "## 4. Drop Scenarios (if cap space needed)"
   ]
  },
  {
   "cell_type": "code",
   "execution_count": null,
   "metadata": {
    "jupyter": {
     "source_hidden": true
    }
   },
   "outputs": [],
   "source": [
    "# Load league roster rules and check constraints\n",
    "try:\n",
    "    conn = duckdb.connect(str(duckdb_path), read_only=True)\n",
    "    \n",
    "    # Get current roster rules\n",
    "    league_rules = conn.execute(\"\"\"\n",
    "        SELECT *\n",
    "        FROM dim_league_rules\n",
    "        WHERE is_current = true\n",
    "    \"\"\").df()\n",
    "    \n",
    "    # Get my current roster composition by position\n",
    "    my_roster_composition = conn.execute(\"\"\"\n",
    "        SELECT \n",
    "            d.position,\n",
    "            COUNT(*) as player_count\n",
    "        FROM main.stg_sheets__contracts_active c\n",
    "        INNER JOIN main.dim_player d ON c.player_id = d.player_id\n",
    "        WHERE c.gm_full_name = 'Jason Shaffer'\n",
    "          AND c.obligation_year = 2025\n",
    "        GROUP BY d.position\n",
    "        ORDER BY player_count DESC\n",
    "    \"\"\").df()\n",
    "    \n",
    "    conn.close()\n",
    "    \n",
    "    # Calculate constraints\n",
    "    roster_active_limit = int(league_rules.iloc[0]['roster_active_limit'])\n",
    "    current_roster_size = int(my_roster_composition['player_count'].sum())\n",
    "    roster_spots_available = roster_active_limit - current_roster_size\n",
    "    \n",
    "    print(\"⚙️  ROSTER SIZE CONSTRAINTS:\")\n",
    "    print(\"=\"*60)\n",
    "    print(f\"Current roster: {current_roster_size}/{roster_active_limit} active slots\")\n",
    "    print(f\"Available spots: {roster_spots_available}\")\n",
    "    \n",
    "    print(\"\\nRoster by Position:\")\n",
    "    display(my_roster_composition)\n",
    "    \n",
    "    # Assess cap needs for top bid\n",
    "    if len(rb_targets) > 0:\n",
    "        top_rb_bid = rb_targets.iloc[0]['suggested_bid_1yr']\n",
    "        cap_needed = top_rb_bid if pd.notna(top_rb_bid) else 0\n",
    "        cap_gap = current_cap - cap_needed\n",
    "        \n",
    "        print(\"\\n💰 CAP SPACE ANALYSIS:\")\n",
    "        print(f\"Current cap: ${current_cap}\")\n",
    "        print(f\"Top bid (RB1): ${cap_needed:.0f}\")\n",
    "        print(f\"Remaining after bid: ${cap_gap:.0f}\")\n",
    "        \n",
    "        # Determine if drop is needed\n",
    "        need_roster_spot = roster_spots_available <= 0\n",
    "        need_cap_space = cap_gap < 0\n",
    "        \n",
    "        print(\"\\n✅ ACTION REQUIRED:\")\n",
    "        if need_roster_spot and need_cap_space:\n",
    "            print(f\"   ⚠️  MUST DROP: Need roster spot AND ${abs(cap_gap):.0f} cap space\")\n",
    "        elif need_roster_spot:\n",
    "            print(f\"   ⚠️  MUST DROP: Roster full ({current_roster_size}/{roster_active_limit})\")\n",
    "        elif need_cap_space:\n",
    "            print(f\"   ⚠️  MUST DROP: Need ${abs(cap_gap):.0f} cap space\")\n",
    "        else:\n",
    "            print(\"   ✅ NO DROP REQUIRED: Have roster spot and sufficient cap\")\n",
    "            \n",
    "except Exception as e:\n",
    "    print(f\"⚠️  Could not load roster rules: {e}\")\n",
    "    print(\"Using fallback analysis...\")\n",
    "    \n",
    "    if len(rb_targets) > 0:\n",
    "        top_rb_bid = rb_targets.iloc[0]['suggested_bid_1yr']\n",
    "        cap_needed = top_rb_bid if pd.notna(top_rb_bid) else 0\n",
    "        cap_gap = current_cap - cap_needed\n",
    "        \n",
    "        print(f\"Current Cap: ${current_cap}\")\n",
    "        print(f\"Needed for RB1 bid: ${cap_needed:.0f}\")\n",
    "        print(f\"Gap: ${cap_gap:.0f}\")\n",
    "        \n",
    "        if cap_gap < 0:\n",
    "            print(f\"\\n⚠️  NEED TO CREATE ${abs(cap_gap):.0f} IN CAP SPACE\\n\")\n",
    "        else:\n",
    "            print(\"\\n✅ SUFFICIENT CAP SPACE\\n\")"
   ]
  },
  {
   "cell_type": "code",
   "execution_count": null,
   "metadata": {
    "jupyter": {
     "source_hidden": true
    }
   },
   "outputs": [],
   "source": [
    "# Top Drop Candidates\n",
    "print(\"Top 5 Drop Candidates:\\n\")\n",
    "\n",
    "drop_candidates = my_roster_droppable.head(5)\n",
    "\n",
    "drop_cols = [\n",
    "    'player_name',\n",
    "    'position',\n",
    "    'current_year_cap_hit',\n",
    "    'dead_cap_if_cut_now',\n",
    "    'cap_space_freed',\n",
    "    'projected_ppg_ros',\n",
    "    'droppable_score',\n",
    "    'drop_recommendation'\n",
    "]\n",
    "\n",
    "display(drop_candidates[drop_cols])"
   ]
  },
  {
   "cell_type": "code",
   "execution_count": null,
   "metadata": {
    "jupyter": {
     "source_hidden": true
    }
   },
   "outputs": [],
   "source": [
    "# Scenario Analysis\n",
    "print(\"\\nDrop Scenario Analysis:\\n\")\n",
    "\n",
    "if len(drop_candidates) > 0 and len(rb_targets) > 0:\n",
    "    top_rb_ppg = rb_targets.iloc[0]['projected_ppg_ros']\n",
    "    \n",
    "    scenarios = []\n",
    "    for _, player in drop_candidates.head(3).iterrows():\n",
    "        cap_freed = player['cap_space_freed']\n",
    "        dead_cap = player['dead_cap_if_cut_now']\n",
    "        net_benefit = cap_freed - dead_cap\n",
    "        value_lost = player['projected_ppg_ros']\n",
    "        ppg_upgrade = top_rb_ppg - value_lost\n",
    "        worth_it = \"✅ YES\" if ppg_upgrade > 3 else \"⚠️ MARGINAL\" if ppg_upgrade > 1 else \"❌ NO\"\n",
    "        \n",
    "        scenarios.append({\n",
    "            'If I drop': player['player_name'],\n",
    "            'Cap Freed': f\"${cap_freed:.0f}\",\n",
    "            'Dead Cap': f\"${dead_cap:.0f}\",\n",
    "            'Net Benefit': f\"${net_benefit:.0f}\",\n",
    "            'Value Lost (PPG)': f\"{value_lost:.1f}\",\n",
    "            'PPG Upgrade': f\"+{ppg_upgrade:.1f}\",\n",
    "            'Worth It?': worth_it\n",
    "        })\n",
    "    \n",
    "    scenarios_df = pd.DataFrame(scenarios)\n",
    "    display(scenarios_df)"
   ]
  },
  {
   "cell_type": "markdown",
   "metadata": {},
   "source": [
    "## 5. Position Depth Analysis"
   ]
  },
  {
   "cell_type": "code",
   "execution_count": null,
   "metadata": {
    "jupyter": {
     "source_hidden": true
    }
   },
   "outputs": [],
   "source": [
    "# My Current RB Depth\n",
    "my_rbs = my_roster_droppable[\n",
    "    my_roster_droppable['position'] == 'RB'\n",
    "].sort_values('projected_ppg_ros', ascending=False)\n",
    "\n",
    "print(\"My Current RB Depth:\")\n",
    "display(my_rbs[['player_name', 'projected_ppg_ros', 'current_year_cap_hit']].head(5))\n",
    "\n",
    "# Calculate depth metrics\n",
    "if len(my_rbs) >= 3:\n",
    "    my_rb_ppg = my_rbs['projected_ppg_ros'].head(3).tolist()\n",
    "    league_median_rb_ppg = [12.5, 8.7, 4.5]  # Approximate league medians\n",
    "    \n",
    "    print(f\"\\nMy RB1: {my_rb_ppg[0]:.1f} PPG (League median: {league_median_rb_ppg[0]} PPG)\")\n",
    "    print(f\"My RB2: {my_rb_ppg[1]:.1f} PPG (League median: {league_median_rb_ppg[1]} PPG)\")\n",
    "    print(f\"My RB3: {my_rb_ppg[2]:.1f} PPG (League median: {league_median_rb_ppg[2]} PPG)\")"
   ]
  },
  {
   "cell_type": "code",
   "execution_count": null,
   "metadata": {},
   "outputs": [],
   "source": [
    "# Visualize RB depth comparison\n",
    "if len(my_rbs) >= 3:\n",
    "    fig, ax = plt.subplots(figsize=(10, 6))\n",
    "    \n",
    "    x = ['RB1', 'RB2', 'RB3']\n",
    "    width = 0.35\n",
    "    x_pos = range(len(x))\n",
    "    \n",
    "    ax.bar([p - width/2 for p in x_pos], my_rb_ppg, width, label='My Team', alpha=0.8, color='steelblue')\n",
    "    ax.bar([p + width/2 for p in x_pos], league_median_rb_ppg, width, label='League Median', alpha=0.8, color='coral')\n",
    "    \n",
    "    ax.set_ylabel('PPG', fontsize=12)\n",
    "    ax.set_xlabel('Position', fontsize=12)\n",
    "    ax.set_title('My RB Depth vs League Median', fontsize=14, fontweight='bold')\n",
    "    ax.set_xticks(x_pos)\n",
    "    ax.set_xticklabels(x)\n",
    "    ax.legend()\n",
    "    ax.grid(True, alpha=0.3, axis='y')\n",
    "    \n",
    "    plt.tight_layout()\n",
    "    plt.show()"
   ]
  },
  {
   "cell_type": "code",
   "execution_count": null,
   "metadata": {},
   "outputs": [],
   "source": [
    "# FLEX Performance Impact & ROI Calculation\n",
    "if len(my_rbs) >= 2 and len(rb_targets) > 0:\n",
    "    current_flex_ppg = my_rbs.iloc[1]['projected_ppg_ros']  # RB2 currently in FLEX\n",
    "    top_rb_ppg = rb_targets.iloc[0]['projected_ppg_ros']\n",
    "    new_flex_ppg = my_rbs.iloc[0]['projected_ppg_ros']  # Current RB1 would move to FLEX\n",
    "    \n",
    "    ppg_gain = new_flex_ppg - current_flex_ppg\n",
    "    weeks_remaining = 9\n",
    "    total_points_gain = ppg_gain * weeks_remaining\n",
    "    \n",
    "    bid_cost = rb_targets.iloc[0]['suggested_bid_2yr']\n",
    "    cost_per_point = bid_cost / total_points_gain if total_points_gain > 0 else 0\n",
    "    league_median_cpp = 1.20  # Approximate\n",
    "    \n",
    "    print(\"FLEX PERFORMANCE IMPACT:\\n\")\n",
    "    print(f\"Current FLEX avg: {current_flex_ppg:.1f} PPG ({my_rbs.iloc[1]['player_name']})\")\n",
    "    print(f\"If I add RB1 target (proj {top_rb_ppg:.1f} PPG), new FLEX: {new_flex_ppg:.1f} PPG ({my_rbs.iloc[0]['player_name']})\")\n",
    "    print(f\"Expected gain: +{ppg_gain:.1f} PPG/week × {weeks_remaining} weeks = +{total_points_gain:.0f} total points\")\n",
    "    \n",
    "    print(\"\\nROI CALCULATION:\\n\")\n",
    "    print(f\"Bid cost: ${bid_cost:.0f}\")\n",
    "    print(f\"Expected points gained: +{total_points_gain:.0f} points ROS\")\n",
    "    print(f\"Cost per point: ${cost_per_point:.2f}/point\")\n",
    "    print(f\"League median cost/point: ${league_median_cpp:.2f}/point\")\n",
    "    \n",
    "    if cost_per_point < league_median_cpp:\n",
    "        print(f\"\\n✅ GOOD VALUE (${(league_median_cpp - cost_per_point):.2f}/point better than median)\")\n",
    "    else:\n",
    "        print(f\"\\n⚠️ EXPENSIVE (${(cost_per_point - league_median_cpp):.2f}/point worse than median)\")"
   ]
  },
  {
   "cell_type": "markdown",
   "metadata": {},
   "source": [
    "## 6. Final Recommendation"
   ]
  },
  {
   "cell_type": "code",
   "execution_count": null,
   "metadata": {},
   "outputs": [],
   "source": [
    "# Generate sealed bid submission sheet\n",
    "print(\"=\"*80)\n",
    "print(\"SEALED BID SUBMISSION SHEET - Week 9 FASA\")\n",
    "print(\"=\"*80)\n",
    "\n",
    "# Build bid matrix with all positions\n",
    "bid_matrix = []\n",
    "\n",
    "# Top RBs\n",
    "for i, (_, player) in enumerate(rb_targets.head(5).iterrows(), 1):\n",
    "    bid_1yr = player['suggested_bid_1yr']\n",
    "    bid_matrix.append({\n",
    "        'Priority': i,\n",
    "        'Position': 'RB',\n",
    "        'Player': player['player_name'],\n",
    "        'Team': player['nfl_team'],\n",
    "        'Bid_1yr': f\"${bid_1yr:.0f}\" if pd.notna(bid_1yr) else \"$0\",\n",
    "        'Bid_2yr': f\"${player['suggested_bid_2yr']:.0f}\" if pd.notna(player['suggested_bid_2yr']) else \"N/A\",\n",
    "        'Proj_PPG': f\"{player['projected_ppg_ros']:.1f}\",\n",
    "        'Value': int(player['value_score']),\n",
    "        'Confidence': player['bid_confidence']\n",
    "    })\n",
    "\n",
    "# Top WRs (if competitive value)\n",
    "for i, (_, player) in enumerate(wr_targets.head(3).iterrows(), len(bid_matrix) + 1):\n",
    "    if player['value_score'] > 40:  # Only include if decent value\n",
    "        bid_1yr = player['suggested_bid_1yr']\n",
    "        bid_matrix.append({\n",
    "            'Priority': i,\n",
    "            'Position': 'WR',\n",
    "            'Player': player['player_name'],\n",
    "            'Team': player['nfl_team'],\n",
    "            'Bid_1yr': f\"${bid_1yr:.0f}\" if pd.notna(bid_1yr) else \"$0\",\n",
    "            'Bid_2yr': f\"${player['suggested_bid_2yr']:.0f}\" if pd.notna(player['suggested_bid_2yr']) else \"N/A\",\n",
    "            'Proj_PPG': f\"{player['projected_ppg_ros']:.1f}\",\n",
    "            'Value': int(player['value_score']),\n",
    "            'Confidence': player['bid_confidence']\n",
    "        })\n",
    "\n",
    "# Top TE (if competitive value)\n",
    "if len(te_targets) > 0 and te_targets.iloc[0]['value_score'] > 40:\n",
    "    player = te_targets.iloc[0]\n",
    "    bid_1yr = player['suggested_bid_1yr']\n",
    "    bid_matrix.append({\n",
    "        'Priority': len(bid_matrix) + 1,\n",
    "        'Position': 'TE',\n",
    "        'Player': player['player_name'],\n",
    "        'Team': player['nfl_team'],\n",
    "        'Bid_1yr': f\"${bid_1yr:.0f}\" if pd.notna(bid_1yr) else \"$0\",\n",
    "        'Bid_2yr': f\"${player['suggested_bid_2yr']:.0f}\" if pd.notna(player['suggested_bid_2yr']) else \"N/A\",\n",
    "        'Proj_PPG': f\"{player['projected_ppg_ros']:.1f}\",\n",
    "        'Value': int(player['value_score']),\n",
    "        'Confidence': player['bid_confidence']\n",
    "    })\n",
    "\n",
    "bid_df = pd.DataFrame(bid_matrix)\n",
    "\n",
    "print(\"\\n📋 COMPLETE BID MATRIX (Ranked by Value):\\n\")\n",
    "display(bid_df)\n",
    "\n",
    "print(\"\\n💡 SEALED BID INSTRUCTIONS:\")\n",
    "print(\"=\" * 80)\n",
    "print(\"1. Submit ALL bids above to commissioner in PRIORITY ORDER\")\n",
    "print(\"2. Commissioner processes in priority sequence:\")\n",
    "print(\"   - If Priority 1 wins → Cancel all lower priorities\")\n",
    "print(\"   - If Priority 1 loses → Process Priority 2\")\n",
    "print(\"   - Continue until one acquisition or all bids exhausted\")\n",
    "print(\"3. Maximum acquisitions this week: 1 player\")\n",
    "print(\"\\n⚠️  Cap Constraint Check:\")\n",
    "print(f\"   Current cap space: ${current_cap}\")\n",
    "print(f\"   Highest bid: {bid_df.iloc[0]['Bid_1yr']} (Priority 1: {bid_df.iloc[0]['Player']})\")\n",
    "if current_cap >= float(bid_df.iloc[0]['Bid_1yr'].replace('$', '')):\n",
    "    print(\"   ✅ SUFFICIENT CAP SPACE for all bids\")\n",
    "else:\n",
    "    print(\"   ⚠️  WARNING: May need to drop player if winning bid\")\n",
    "\n",
    "print(\"\\n🎯 TOP RECOMMENDATION:\")\n",
    "print(f\"   Best value: {bid_df.iloc[0]['Player']} ({bid_df.iloc[0]['Position']})\")\n",
    "print(f\"   Value score: {bid_df.iloc[0]['Value']} | Projected: {bid_df.iloc[0]['Proj_PPG']} PPG\")\n",
    "print(f\"   Confidence: {bid_df.iloc[0]['Confidence']}\")\n",
    "\n",
    "print(\"\\n\" + \"=\"*80)"
   ]
  },
  {
   "cell_type": "code",
   "execution_count": null,
   "metadata": {},
   "outputs": [],
   "source": [
    "# Summary statistics\n",
    "print(\"\\n📊 SUMMARY STATISTICS:\\n\")\n",
    "print(f\"Total FASA targets analyzed: {len(fasa_targets)}\")\n",
    "print(f\"RB targets: {len(fasa_targets[fasa_targets['position'] == 'RB'])}\")\n",
    "print(f\"WR targets: {len(fasa_targets[fasa_targets['position'] == 'WR'])}\")\n",
    "print(f\"TE targets: {len(fasa_targets[fasa_targets['position'] == 'TE'])}\")\n",
    "print(f\"\\nMy roster size: {len(my_roster_droppable)}\")\n",
    "print(f\"Drop candidates identified: {len(my_roster_droppable[my_roster_droppable['drop_recommendation'].str.contains('Consider', na=False)])}\")\n",
    "print(f\"\\nCurrent cap space: ${current_cap}\")\n",
    "print(f\"Projected spend (primary bid): ${rb_targets.iloc[0]['suggested_bid_2yr']:.0f}\" if len(rb_targets) > 0 else \"N/A\")"
   ]
  }
 ],
 "metadata": {
  "kernelspec": {
   "display_name": ".venv",
   "language": "python",
   "name": "python3"
  },
  "language_info": {
   "codemirror_mode": {
    "name": "ipython",
    "version": 3
   },
   "file_extension": ".py",
   "mimetype": "text/x-python",
   "name": "python",
   "nbconvert_exporter": "python",
   "pygments_lexer": "ipython3",
   "version": "3.13.6"
  }
 },
 "nbformat": 4,
 "nbformat_minor": 4
}
