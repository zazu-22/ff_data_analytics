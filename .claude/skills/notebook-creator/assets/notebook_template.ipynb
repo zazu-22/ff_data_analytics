{
 "cells": [
  {
   "cell_type": "markdown",
   "metadata": {},
   "source": [
    "# {Notebook Title}\n",
    "\n",
    "**Purpose**: {Brief description of analysis}\n",
    "\n",
    "**Author**: {Name}\n",
    "\n",
    "**Date**: {YYYY-MM-DD}\n",
    "\n",
    "## Objectives\n",
    "\n",
    "- {Objective 1}\n",
    "- {Objective 2}"
   ]
  },
  {
   "cell_type": "code",
   "execution_count": null,
   "metadata": {},
   "outputs": [],
   "source": [
    "# Setup: Imports and configuration\n",
    "import os\n",
    "from pathlib import Path\n",
    "\n",
    "import duckdb\n",
    "import matplotlib.pyplot as plt\n",
    "import seaborn as sns\n",
    "\n",
    "# Set plotting style\n",
    "sns.set_theme(style=\"whitegrid\")\n",
    "plt.rcParams[\"figure.figsize\"] = (12, 6)"
   ]
  },
  {
   "cell_type": "code",
   "execution_count": null,
   "metadata": {},
   "outputs": [],
   "source": [
    "# DuckDB connection setup\n",
    "# Set EXTERNAL_ROOT for parquet file access\n",
    "external_root = os.environ.get(\"EXTERNAL_ROOT\", str(Path.cwd().parent / \"data\" / \"raw\"))\n",
    "\n",
    "# Connect to dbt database or create in-memory\n",
    "db_path = Path.cwd().parent / \"dbt\" / \"ff_analytics\" / \"target\" / \"dev.duckdb\"\n",
    "\n",
    "if db_path.exists():\n",
    "    conn = duckdb.connect(str(db_path), read_only=True)\n",
    "    print(f\"Connected to: {db_path}\")\n",
    "else:\n",
    "    conn = duckdb.connect()  # In-memory\n",
    "    print(\"Using in-memory database\")\n",
    "\n",
    "# Test connection\n",
    "conn.execute(\"SELECT 1 AS test\").fetchdf()"
   ]
  },
  {
   "cell_type": "markdown",
   "metadata": {},
   "source": [
    "## Data Loading\n",
    "\n",
    "{Description of what data we're loading and why}"
   ]
  },
  {
   "cell_type": "code",
   "execution_count": null,
   "metadata": {},
   "outputs": [],
   "source": [
    "# Query data from marts\n",
    "query = \"\"\"\n",
    "SELECT *\n",
    "FROM main.mart_{your_mart}\n",
    "WHERE {filters}\n",
    "LIMIT 1000\n",
    "\"\"\"\n",
    "\n",
    "df = conn.execute(query).fetchdf()\n",
    "print(f\"Loaded {len(df)} rows\")\n",
    "df.head()"
   ]
  },
  {
   "cell_type": "markdown",
   "metadata": {},
   "source": [
    "## Analysis\n",
    "\n",
    "{Description of analysis approach}"
   ]
  },
  {
   "cell_type": "code",
   "execution_count": null,
   "metadata": {},
   "outputs": [],
   "source": [
    "# Perform analysis\n",
    "# {Your analysis code here}"
   ]
  },
  {
   "cell_type": "markdown",
   "metadata": {},
   "source": [
    "## Visualization\n",
    "\n",
    "{Description of what we're visualizing}"
   ]
  },
  {
   "cell_type": "code",
   "execution_count": null,
   "metadata": {},
   "outputs": [],
   "source": [
    "# Create visualization\n",
    "fig, ax = plt.subplots(figsize=(12, 6))\n",
    "\n",
    "# {Your plot code here}\n",
    "\n",
    "plt.title(\"{Chart Title}\")\n",
    "plt.xlabel(\"{X Label}\")\n",
    "plt.ylabel(\"{Y Label}\")\n",
    "plt.tight_layout()\n",
    "plt.show()"
   ]
  },
  {
   "cell_type": "markdown",
   "metadata": {},
   "source": [
    "## Conclusions\n",
    "\n",
    "- {Finding 1}\n",
    "- {Finding 2}\n",
    "- {Recommendation 1}"
   ]
  }
 ],
 "metadata": {
  "kernelspec": {
   "display_name": "Python 3",
   "language": "python",
   "name": "python3"
  },
  "language_info": {
   "name": "python",
   "version": "3.13.6"
  }
 },
 "nbformat": 4,
 "nbformat_minor": 2
}
